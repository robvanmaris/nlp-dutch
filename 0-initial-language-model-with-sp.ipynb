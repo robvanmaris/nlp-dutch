{
 "cells": [
  {
   "cell_type": "markdown",
   "metadata": {},
   "source": [
    "# With SentencePiece tokenizer"
   ]
  },
  {
   "cell_type": "markdown",
   "metadata": {},
   "source": [
    "## Initial setup"
   ]
  },
  {
   "cell_type": "code",
   "execution_count": 1,
   "metadata": {},
   "outputs": [],
   "source": [
    "%reload_ext autoreload\n",
    "%autoreload 2\n",
    "%matplotlib inline"
   ]
  },
  {
   "cell_type": "code",
   "execution_count": 2,
   "metadata": {},
   "outputs": [],
   "source": [
    "from fastai import *\n",
    "from fastai.text import *"
   ]
  },
  {
   "cell_type": "code",
   "execution_count": 3,
   "metadata": {},
   "outputs": [],
   "source": [
    "bs = 512"
   ]
  },
  {
   "cell_type": "code",
   "execution_count": 4,
   "metadata": {},
   "outputs": [],
   "source": [
    "data_path = Config.data_path()\n",
    "lang = 'nl'\n",
    "name = f'{lang}wiki_sp' # Use a different directory.\n",
    "path = data_path/name\n",
    "path.mkdir(exist_ok=True, parents=True)\n",
    "lm_fns = [f'{lang}_wt', f'{lang}_wt_vocab']"
   ]
  },
  {
   "cell_type": "markdown",
   "metadata": {},
   "source": [
    "## Download wikipedia data"
   ]
  },
  {
   "cell_type": "code",
   "execution_count": 5,
   "metadata": {},
   "outputs": [],
   "source": [
    "from nlputils import split_wiki,get_wiki"
   ]
  },
  {
   "cell_type": "code",
   "execution_count": 6,
   "metadata": {},
   "outputs": [
    {
     "name": "stdout",
     "output_type": "stream",
     "text": [
      "/storage/nlwiki_sp/nlwiki already exists; not downloading\n"
     ]
    }
   ],
   "source": [
    "get_wiki(path, lang)"
   ]
  },
  {
   "cell_type": "code",
   "execution_count": 7,
   "metadata": {},
   "outputs": [
    {
     "data": {
      "text/plain": [
       "[PosixPath('/storage/nlwiki_sp/wikiextractor'),\n",
       " PosixPath('/storage/nlwiki_sp/nlwiki-latest-pages-articles.xml'),\n",
       " PosixPath('/storage/nlwiki_sp/nlwiki'),\n",
       " PosixPath('/storage/nlwiki_sp/docs'),\n",
       " PosixPath('/storage/nlwiki_sp/copy_docs.py')]"
      ]
     },
     "execution_count": 7,
     "metadata": {},
     "output_type": "execute_result"
    }
   ],
   "source": [
    "path.ls()"
   ]
  },
  {
   "cell_type": "markdown",
   "metadata": {},
   "source": [
    "### Split in separate files"
   ]
  },
  {
   "cell_type": "code",
   "execution_count": 8,
   "metadata": {},
   "outputs": [
    {
     "name": "stdout",
     "output_type": "stream",
     "text": [
      "/storage/nlwiki_sp/docs already exists; not splitting\n"
     ]
    }
   ],
   "source": [
    "dest = split_wiki(path, lang)"
   ]
  },
  {
   "cell_type": "code",
   "execution_count": 9,
   "metadata": {},
   "outputs": [
    {
     "data": {
      "text/plain": [
       "[PosixPath('/storage/nlwiki_sp/docs/Theophanu.txt'),\n",
       " PosixPath('/storage/nlwiki_sp/docs/Witte dovenetel.txt'),\n",
       " PosixPath('/storage/nlwiki_sp/docs/Minskoffensief.txt'),\n",
       " PosixPath('/storage/nlwiki_sp/docs/Cochabamba (stad).txt'),\n",
       " PosixPath('/storage/nlwiki_sp/docs/Joel Osteen.txt')]"
      ]
     },
     "execution_count": 9,
     "metadata": {},
     "output_type": "execute_result"
    }
   ],
   "source": [
    "dest.ls()[:5]"
   ]
  },
  {
   "cell_type": "markdown",
   "metadata": {},
   "source": [
    "## Create databunch for language model"
   ]
  },
  {
   "cell_type": "code",
   "execution_count": 13,
   "metadata": {},
   "outputs": [],
   "source": [
    "# This takes about 45 minutes:\n",
    "data = (TextList.from_folder(dest, processor=[OpenFileProcessor(), SPProcessor()])\n",
    "       .split_by_rand_pct(0.1, seed=42)\n",
    "       .label_for_lm()\n",
    "       .databunch(bs=bs, num_workers=1))"
   ]
  },
  {
   "cell_type": "code",
   "execution_count": 14,
   "metadata": {},
   "outputs": [
    {
     "data": {
      "text/plain": [
       "(30000, 183926)"
      ]
     },
     "execution_count": 14,
     "metadata": {},
     "output_type": "execute_result"
    }
   ],
   "source": [
    "data.save(f'{lang}_databunch_sp')  # Different databunch\n",
    "len(data.vocab.itos),len(data.train_ds)"
   ]
  },
  {
   "cell_type": "code",
   "execution_count": 15,
   "metadata": {},
   "outputs": [
    {
     "data": {
      "text/plain": [
       "LabelList (5 items)\n",
       "x: LMTextList\n",
       "▁xxbos ▁xxmaj ▁theo pha nu ▁xxmaj ▁theo pha nu ▁( grieks : ▁xxmaj ▁ θ ε ο φ α ν ώ , ▁\" the op han o \" ▁of ▁xxmaj ▁ θ ε ο φ ά ν ι α , ▁\" the op han ia \") ▁( constant ino pel , ▁ca . ▁9 60 ▁ - ▁xxmaj ▁nijmegen , ▁15 ▁juni ▁9 91) ▁was ▁een ▁xxmaj ▁byzantijnse ▁prinses , ▁een ▁( aan getrouwd e ) ▁nicht ▁van ▁de ▁xxmaj ▁byzantijnse ▁keizer ▁xxmaj ▁johannes ▁i ▁xxmaj ▁ tz imi s kes . ▁xxmaj ▁op ▁14 ▁april ▁9 72 ▁huwde ▁zij ▁op ▁ongeveer ▁twaalf jarige ▁leeftijd ▁met ▁keizer ▁xxmaj ▁otto ▁xxup ▁ii ▁en ▁werd ▁zodoende ▁keizerin ▁van ▁het ▁xxmaj ▁heilige ▁xxmaj ▁roomse ▁xxmaj ▁rijk . ▁xxmaj ▁na ▁de ▁dood ▁van ▁xxmaj ▁otto ▁xxup ▁ii ▁werd ▁zij ▁regentes ▁voor ▁haar ▁zoon ▁keizer ▁xxmaj ▁otto ▁xxup ▁iii . ▁xxmaj ▁otto ▁i ▁had ▁voor ▁zijn ▁zoon , ▁xxmaj ▁otto ▁xxup ▁ii , ▁om ▁een ▁xxmaj ▁byzantijnse ▁prinses ▁gevraagd ▁om ▁zo ▁op ▁passen de ▁wijze ▁een ▁verdrag ▁te ▁ver zegel en ▁tussen ▁het ▁xxmaj ▁heilige ▁xxmaj ▁roomse ▁xxmaj ▁rijk ▁en ▁het ▁xxmaj ▁byzantijnse ▁xxmaj ▁rijk . ▁xxmaj ▁een ▁onver standig e ▁verwijzing ▁door ▁de ▁paus ▁in ▁een ▁brief ▁aan ▁de ▁keizer ▁van ▁xxmaj ▁constantinopel , ▁waarin ▁hij ▁deze ▁als ▁\" grieks \", ▁in ▁plaats ▁van ▁als ▁\" roman oi \" ▁bestempeld e , ▁net ▁toen ▁xxmaj ▁otto ' s ▁ambassadeur , ▁xxmaj ▁liu t p rand ▁van ▁xxmaj ▁cre mona , ▁aan ▁het ▁xxmaj ▁byzantijnse ▁hof ▁verbleef , ▁had ▁de ▁eerste ▁ronde ▁van ▁de ▁ onderhandelingen ▁tot ▁een ▁abrupt ▁einde ▁gebracht . ▁xxmaj ▁maar ▁na ▁de ▁kroning ▁van ▁een ▁nieuwe ▁keizer ▁konden ▁de ▁ onderhandelingen ▁eerst ▁worden ▁hervat ▁en ▁vervolgens ▁tot ▁een ▁goed ▁einde ▁worden ▁gebracht . ▁xxmaj ▁theo pha nu ▁arriveerde ▁in ▁9 72 ▁ stip t ▁op ▁tijd , ▁in ▁groot se ▁stijl ▁en ▁vergezeld ▁van ▁grote ▁rijkdom men , ▁in ▁xxmaj ▁raven na . ▁xxmaj ▁volgens ▁de ▁kro ni keur ▁xxmaj ▁thi et mar ▁van ▁xxmaj ▁mer se burg ▁was ▁xxmaj ▁theo pha nu ▁echter ▁niet ▁de ▁\" vir go ▁de side ra ta \" ▁( ge wen ste ▁maagd ), ▁een ▁echte ▁keizerlijke ▁prinses , ▁die ▁het ▁xxmaj ▁saksische ▁gezelschap ▁verwachtte . ▁xxmaj ▁theo pha nu ▁staat ▁in ▁het ▁huwelijks contract ▁beschreven ▁als ▁de ▁\" n ept is \" ▁( nich t ) ▁van ▁keizer ▁xxmaj ▁johannes ▁i ▁xxmaj ▁ tz imi s kes ▁( ι ω ά ν ν ης ▁ ι ▁xxmaj ▁ τ σ ι μ ι σ κ ή ς ). ▁xxmaj ▁theo pha nu ▁was ▁een ▁dochter ▁van ▁xxmaj ▁konstantin os ▁xxmaj ▁ s kle ros ▁( κ ω ν στ α ν τ ί ν ος ▁xxmaj ▁ σ κ λ η ρ ός ), ▁een ▁broer ▁van ▁de ▁valse ▁keizer kandidaat ▁xxmaj ▁bar das ▁xxmaj ▁ s kle ros ▁( β ά ρ δ α ς ▁xxmaj ▁ σ κ λ η ρ ός ). ▁xxmaj ▁haar ▁moeder ▁was ▁xxmaj ▁sophia ▁xxmaj ▁ pho ka ina ▁( σ ο φ ί α ▁xxmaj ▁ φ ώ κ α ι ν α ), ▁een ▁nicht ▁van ▁keizer ▁xxmaj ▁ nik e pho ros ▁xxup ▁ii ▁( ν ι κ η φ ό ρ ος ▁xxup ▁ ι ι ). ▁xxmaj ▁haar ▁vaders ▁zuster , ▁xxmaj ▁maria ▁xxmaj ▁ s kle rain a ▁( μ α ρ ί α ▁xxmaj ▁ σ κ λ ή ρ α ι ν α ), ▁was ▁de ▁eerste ▁echtgenote ▁van ▁xxmaj ▁ tz imi s ces . ▁xxmaj ▁de ▁conclusie ▁luidt ▁derhalve ▁dat ▁xxmaj ▁theo pha nu ▁een ▁aan getrouwd ▁familielid ▁van ▁de ▁xxmaj ▁byzantijnse ▁keizerlijke ▁families ▁was ▁en ▁dat ▁zij ▁van ▁xxmaj ▁armeense ▁afkomst ▁was . ▁xxmaj ▁theo pha nu ▁en ▁xxmaj ▁otto ▁werden ▁op ▁14 ▁april , ▁9 72 ▁door ▁paus ▁xxmaj ▁johannes ▁xxup ▁xiii ▁in ▁de ▁xxmaj ▁sint ▁xxmaj ▁pieter ▁in ▁de ▁echt ▁verbonden . ▁xxmaj ▁dezelfde ▁dag ▁werd ▁xxmaj ▁theo pha nu ▁in ▁xxmaj ▁rome ▁tot ▁keizerin ▁van ▁het ▁xxmaj ▁heilige ▁xxmaj ▁roomse ▁xxmaj ▁rijk ▁gekroond . ▁xxmaj ▁volgens ▁de ▁huwelijks oor kon de ▁van ▁xxmaj ▁keizerin ▁xxmaj ▁theo phan uk re eg ▁ze ▁als ▁bruidsschat ▁gebieden ▁in ▁de ▁xxmaj ▁nederlanden ▁( wal cher en , ▁xxmaj ▁ wich elen ▁en ▁de ▁xxmaj ▁abdij ▁van ▁xxmaj ▁nijvel ), ▁in ▁xxmaj ▁italië , ▁in ▁het ▁huidige ▁xxmaj ▁duitsland ▁en ▁xxmaj ▁ istrië . ▁xxmaj ▁het ▁paar ▁kreeg ▁vijf ▁kinderen , ▁het ▁eerste ▁toen ▁de ▁keizerin ▁ongeveer ▁15 ▁jaar ▁was : ▁xxmaj ▁theo pha nu ▁kreeg ▁als ▁morgen gave ▁nog ▁te ▁veroveren ▁gebieden ▁in ▁zuid - italië ▁maar ▁ook ▁vele ▁andere ▁goederen , ▁ o . a . ▁xxmaj ▁walcheren , ▁xxmaj ▁ wich elen ▁en ▁bezittingen ▁bij ▁xxmaj ▁tiel ▁en ▁de ▁functie ▁van ▁ voogd ▁van ▁de ▁abdij ▁van ▁xxmaj ▁nijvel . ▁xxmaj ▁als ▁bruidsschat ▁bracht ▁ze ▁xxmaj ▁capu a ▁en ▁xxmaj ▁ben even to ▁in , ▁ook ▁gebieden ▁die ▁feitelijk ▁nog ▁moesten ▁worden ▁veroverd . ▁xxmaj ▁deze ▁regeling ▁rond ▁hun ▁huwelijk ▁zal ▁een ▁belangrijke ▁ drijf veer ▁voor ▁xxmaj ▁otto ▁zijn ▁geweest ▁in ▁zijn ▁poging ▁om ▁zuid - italië ▁te ▁veroveren . ▁xxmaj ▁theo pha nu ▁vergezelde ▁haar ▁echtgenoot ▁op ▁al ▁diens ▁reizen . ▁xxmaj ▁ook ▁ondertekende ▁zij ▁onder ▁haar ▁eigen ▁naam ▁documenten ▁als ▁keizerin . ▁xxmaj ▁op ▁7 ▁december ▁9 83 ▁overleed ▁xxmaj ▁otto ▁xxup ▁ii ▁plotseling . ▁xxmaj ▁hij ▁werd ▁begraven ▁in ▁xxmaj ▁rome . ▁xxmaj ▁drie ▁weken ▁later , ▁met ▁xxmaj ▁kerstmis , ▁liet ▁xxmaj ▁theo pha nu ▁hun ▁drie jarige ▁zoon ▁kronen ▁als ▁xxmaj ▁otto ▁xxup ▁iii . ▁xxmaj ▁zij ▁benoemde ▁zichzelf ▁tot ▁keizerin - regent ▁namens ▁haar ▁zoon . ▁xxmaj ▁hertog ▁xxmaj ▁hendrik ▁xxup ▁ii ▁van ▁xxmaj ▁beieren ▁ontvoerd e ▁xxmaj ▁otto ▁xxup ▁iii ▁in ▁het ▁voorjaar ▁van ▁9 84 , ▁maar ▁werd ▁na ▁enige ▁tijd ▁gedwongen ▁om ▁het ▁kind ▁weer ▁terug ▁te ▁geven ▁aan ▁zijn ▁moeder . ▁xxmaj ▁theo pha nu ▁regeerde ▁samen ▁met ▁haar ▁schoon moeder ▁xxmaj ▁adelheid ▁als ▁regentes ▁met ▁steun ▁van ▁xxmaj ▁ willig is , ▁de ▁aartsbisschop ▁van ▁xxmaj ▁mainz , ▁en ▁xxmaj ▁ hilde bold ▁van ▁xxmaj ▁worm s , ▁de ▁bisschop ▁van ▁xxmaj ▁worm s . ▁xxmaj ▁in ▁9 86 ▁werd ▁zij ▁gehuldigd ▁door ▁de ▁vorsten ▁van ▁xxmaj ▁bohemen ▁en ▁xxmaj ▁polen . ▁xxmaj ▁het ▁volgende ▁jaar ▁steunde ▁zij ▁de ▁verkiezing ▁van ▁xxmaj ▁hugo ▁xxmaj ▁cape t ▁tot ▁koning ▁van ▁xxmaj ▁frankrijk . ▁xxmaj ▁ook ▁wist ▁ze ▁in ▁9 87 ▁xxmaj ▁adelheid ▁uit ▁haar ▁positie ▁als ▁regentes ▁te ▁zetten . ▁xxmaj ▁theo pha nu ▁regeerde ▁nu ▁alleen ▁als ▁\" imper a trix \". ▁xxmaj ▁toen ▁xxmaj ▁theo pha nu ▁in ▁9 91 ▁overleed ▁deed ▁xxmaj ▁adelheid ▁geen ▁moeite ▁om ▁haar ▁vreugde ▁te ▁verbergen . ▁xxmaj ▁zij ▁verbood ▁zelfs ▁herdenking en ▁voor ▁haar . ▁xxmaj ▁omdat ▁xxmaj ▁otto ▁xxup ▁iii ▁nog ▁een ▁kind ▁was , ▁nam ▁xxmaj ▁adelheid ▁het ▁regentschap ▁weer ▁over , ▁totdat ▁xxmaj ▁otto ▁xxup ▁iii ▁in ▁9 96 ▁oud ▁genoeg ▁was ▁om ▁zelf ▁te ▁regeren . ▁xxmaj ▁theo pha nu ▁werd ▁op ▁haar ▁verzoek ▁begraven ▁in ▁het ▁xxmaj ▁pan tale on klooster ▁in ▁xxmaj ▁keulen , ▁dat ▁ze ▁had ▁be gunstig d . ▁xxmaj ▁ze ▁had ▁relieken ▁van ▁xxmaj ▁ alban us ▁van ▁xxmaj ▁engeland ▁naar ▁het ▁klooster ▁laten ▁brengen ▁voor ▁een ▁altaar ▁waarbij ▁haar ▁graf ▁zou ▁komen . ▁xxmaj ▁al per tus ▁van ▁xxmaj ▁met z ▁beschrijft ▁xxmaj ▁theo pha nu ▁als ▁een ▁ ona ange name , ▁ spraak zame ▁vrouw . ▁xxmaj ▁theo pha nu ▁werd ▁ook ▁bekritiseerd ▁om ▁haar ▁ decadent ie , ▁die ▁tot ▁uiting ▁kwam ▁in ▁het ▁feit ▁dat ▁zij ▁zich ▁een s ▁per ▁dag ▁ba ad de ▁en ▁dat ▁zij ▁een ▁voor liefde ▁had ▁voor ▁luxe ▁kleding ▁en ▁sieraden . ▁xxmaj ▁ze ▁wordt ▁gezien ▁als ▁de ▁persoon ▁die ▁de ▁ vork ▁in ▁west - europa ▁invoer de ▁ - ▁kro nik eurs ▁maken ▁melding ▁van ▁de ▁verbazing ▁die ▁zij ▁veroorzaakte ▁toen ▁ze ▁gebruik ▁maakte ▁van ▁een ▁\" twee tand ige ▁gouden ▁ vork \" ▁om ▁voedsel ▁naar ▁haar ▁mond ▁te ▁brengen , ▁dit ▁in ▁plaats ▁van ▁hiervoor ▁haar ▁handen ▁en ▁vingers ▁te ▁gebruiken , ▁zoals ▁toentertijd ▁de ▁norm ▁was . ▁xxmaj ▁de ▁theoloog ▁xxmaj ▁petrus ▁xxmaj ▁dam iani ▁beweert ▁zelfs ▁dat ▁xxmaj ▁theo pha nu ▁een ▁affaire ▁zou ▁hebben ▁gehad ▁met ▁xxmaj ▁johannes ▁xxmaj ▁phil aga thos , ▁een ▁xxmaj ▁griekse ▁monnik ▁uit ▁zuid - italië , ▁die ▁korte ▁tijd ▁regeerde ▁als ▁de ▁tegen pau s ▁xxmaj ▁johannes ▁xxup ▁xvi . ▁xxmaj ▁de ▁kro ni keur ▁van ▁xxmaj ▁thi et mar ▁van ▁xxmaj ▁mer se burg ▁ loof de ▁haar ▁als ▁volgt :,▁xxbos ▁xxmaj ▁witte ▁doven e tel ▁xxmaj ▁de ▁witte ▁doven e tel ▁(\" lam ium ▁album \") ▁is ▁in ▁xxmaj ▁europa ▁een ▁algemeen ▁voorkomende , ▁vaste ▁plant . ▁xxmaj ▁ondergronds ▁kent ▁de ▁plant ▁ver ▁ vert akte ▁uit lopers . ▁xxmaj ▁de ▁vierkante , ▁holle ▁stengel ▁is ▁afstaan d ▁behaard , ▁xxmaj ▁de ▁bladeren ▁zijn ▁paar sgewijs ▁tegenover staand . ▁xxmaj ▁aan ▁de ▁voet ▁van ▁de ▁steel ▁zijn ▁de ▁bladeren ▁hart vormig , ▁aan ▁de ▁top ▁meer ▁langwerpig . ▁xxmaj ▁de ▁bladeren ▁zijn ▁evenals ▁die ▁van ▁de ▁brand net el ▁ge tand . ▁xxmaj ▁de ▁naam ▁doven e tel ▁is ▁hiervan ▁afgeleid , ▁hij ▁brandt ▁namelijk ▁niet . ▁xxmaj ▁bovendien ▁is ▁het ▁ sap ▁uit ▁de ▁bladeren ▁van ▁de ▁doven e tel ▁te ▁gebruiken ▁om ▁de ▁pijn ▁van ▁een ▁steek ▁van ▁een ▁brand net el ▁te ▁verminderen . ▁xxmaj ▁hij ▁' doo ft ' ▁als ▁het ▁ware ▁de ▁pijn . ▁xxmaj ▁het ▁meest ▁opvallende ▁kenmerk ▁van ▁de ▁plant ▁zijn ▁de ▁witte ▁( soms ▁geel ▁aan lopende ) ▁bloemen . ▁xxmaj ▁deze ▁ont springen ▁in ▁het ▁bovenste ▁deel ▁van ▁de ▁plant ▁ krans vormig ▁rondom ▁de ▁plaats ▁waar ▁de ▁bladeren ▁uit ▁de ▁stengel ▁komen . ▁xxmaj ▁zo ' n ▁ krans ▁bestaat ▁uit ▁acht ▁of ▁meer ▁lip vormige ▁ , ▁2 -4 ▁cm ▁grote ▁bloemen . ▁xxmaj ▁elk ▁van ▁de ▁bloemen ▁heeft ▁een ▁lange , ▁gebogen ▁kroon buis ▁en ▁een ▁vijf tand ige ▁ kel k . ▁xxmaj ▁de ▁voorste ▁twee ▁van ▁de ▁vier ▁meeldraden ▁zijn ▁langer ▁dan ▁de ▁andere ▁twee . ▁xxmaj ▁de ▁bloeitijd ▁is ▁van ▁april ▁tot ▁oktober . ▁xxmaj ▁de ▁plant ▁kan ▁tot ▁1,5 ▁m ▁hoog ▁worden , ▁maar ▁blijft ▁afhankelijk ▁van ▁seizoen , ▁standplaats ▁en ▁klimaat ▁ook ▁steken ▁bij ▁30 - 40 ▁cm . ▁xxmaj ▁het ▁zaad ▁heeft ▁een ▁mieren brood je , ▁waardoor ▁het ▁door ▁mieren ▁verspreid ▁wordt . ▁xxmaj ▁de ▁plant ▁groeit ▁uitgebreid ▁op ▁ru der aal ▁terreinen : ▁langs ▁weg ber men , ▁langs ▁sloten , ▁in ▁parken , ▁op ▁stort plaatsen ▁en ▁afval terreinen , ▁langs ▁dijken ▁en ▁bos rand en . ▁xxmaj ▁de ▁witte ▁doven e tel ▁groeit ▁op ▁een ▁vochtige , ▁voedselrijke ▁bodem . ▁xxmaj ▁het ▁ver spreidingsgebied ▁beslaat ▁xxmaj ▁europa ▁en ▁gematigd ▁xxmaj ▁azië . ▁xxmaj ▁in ▁noord - amerika ▁is ▁de ▁soort ▁geïntroduceerd . ▁xxmaj ▁de ▁bloem ▁is ▁rijk ▁aan ▁nectar ▁en ▁dus ▁aantrekkelijk ▁voor ▁bij en ▁en ▁ hommel s . ▁xxmaj ▁de ▁plant ▁is ▁de ▁waardplant ▁voor ▁de ▁rups en ▁van ▁zwart ge vlek te ▁herfst uil ▁(\" a gro cho la ▁li tura \"), ▁grote ▁beer ▁(\" arc tia ▁ca ja \"), ▁koper uil ▁(\" dia chr y sia ▁ chr ys itis \"), ▁sigma - uil ▁(\" eu graph e ▁sigma \"), ▁a gaat vlinder ▁(\" ph log ophor a ▁met i cul osa \") ▁en ▁g lid kruid mot ▁(\" pro cho reu tis ▁my lle rana \"). ▁xxmaj ▁de ▁jonge ▁scheu ten ▁kunnen ▁in ▁ soep en ▁en ▁sala des ▁worden ▁verwerkt . ▁xxmaj ▁verder ▁kan ▁men ▁deze ▁samen ▁met ▁andere ▁groenten ▁als ▁spin a zie ▁eten . ▁xxmaj ▁de ▁thee ▁wordt ▁aanbevolen ▁bij ▁ nier klachten ▁( iet s ▁dat ▁niet ▁geldt ▁voor ▁de ▁gele ▁doven e tel ).,▁xxbos ▁xxmaj ▁minsk offensief ▁xxmaj ▁het ▁xxmaj ▁minsk offensief ▁( russisch : ▁xxmaj ▁ ми н ская ▁ о пе ра ц и я ) ▁maakte ▁deel ▁uit ▁van ▁xxmaj ▁operatie ▁xxmaj ▁ bag ration ▁in ▁1944 , ▁de ▁tweede ▁fase ▁van ▁de ▁aanval ▁van ▁het ▁xxmaj ▁rode ▁xxmaj ▁leger ▁om ▁wit - rusland ▁te ▁bevrijden . ▁xxmaj ▁het ▁xxmaj ▁sovjet leger ▁omsingeld e ▁het ▁xxmaj ▁duits ▁xxmaj ▁vierde ▁xxmaj ▁leger ▁bij ▁de ▁stad ▁xxmaj ▁minsk . ▁xxmaj ▁hitler ▁beval ▁het ▁xxmaj ▁vierde ▁xxmaj ▁leger ▁om ▁de ▁stad ▁te ▁behouden ▁en ▁riep ▁de ▁wit - russische ▁hoofdstad ▁uit ▁tot ▁\" fest ung \". ▁xxmaj ▁het ▁xxmaj ▁russische ▁5 de ▁xxmaj ▁garde tank leger ▁viel ▁vanuit ▁het ▁noordoosten ▁aan , ▁het ▁2 de ▁xxmaj ▁garde tank korps ▁viel ▁in ▁het ▁centrum ▁aan , ▁terwijl ▁het ▁65 ste ▁xxmaj ▁leger ▁op ruk te ▁in ▁het ▁zuiden ▁om ▁de ▁om singel ing ▁te ▁voltooien . ▁xxmaj ▁ongeveer ▁100.000 ▁xxmaj ▁duitse ▁soldaten ▁uit ▁de ▁xxmaj ▁vierde ▁en ▁xxmaj ▁negende ▁legers ▁werden ▁omsingeld , ▁waarvan ▁er ▁ongeveer ▁ 40.000 ▁soldaten ▁gedood ▁werden . ▁xxmaj ▁het ▁resultaat ▁was ▁een ▁volledige ▁overwinning ▁voor ▁het ▁xxmaj ▁rode ▁xxmaj ▁leger ▁met ▁de ▁bevrijding ▁van ▁xxmaj ▁minsk ▁en ▁de ▁snelle ▁vernietiging ▁van ▁de ▁xxmaj ▁duitse ▁xxmaj ▁leger groep ▁xxmaj ▁midden . ▁xxmaj ▁de ▁doelen ▁van ▁het ▁xxmaj ▁derde ▁wit - russische ▁xxmaj ▁front ▁waren ▁op ▁28 ▁juni ▁1944 ▁bijna ▁volledig ▁bereikt , ▁toen ▁de ▁voorhoede ▁van ▁de ▁ge me chan iseerde ▁cavalerie ▁halt ▁hielden ▁bij ▁de ▁rivier ▁de ▁xxmaj ▁be rez ina . ▁xxmaj ▁op ▁dezelfde ▁dag ▁als ▁waarop ▁de ▁doelstellingen ▁behaald ▁waren ▁vaardigde ▁de ▁\" stav ka \" ▁een ▁nieuw ▁bevel ▁uit , ▁xxmaj ▁no . ▁22 01 24 . ▁xxmaj ▁dit ▁beval ▁om ▁de ▁xxmaj ▁be rez ina ▁over ▁te ▁steken ▁en ▁door ▁te ▁ stoten ▁richting ▁xxmaj ▁minsk ▁en ▁xxmaj ▁mol o de sj no , ▁om ▁vervolgens ▁aan ▁te ▁sluiten ▁met ▁het ▁2 de ▁wit - russische ▁xxmaj ▁front ▁en ▁dit ▁tegen ▁8 ▁juli . ▁xxmaj ▁het ▁5 de ▁xxmaj ▁garde tank leger , ▁onder ▁leiding ▁van ▁generaal ▁xxmaj ▁pavel ▁xxmaj ▁rot mis t rov ▁werd ▁echter ▁bekritiseerd ▁om ▁zijn ▁vermeende ▁traag heid ▁bij ▁het ▁bereiken ▁van ▁zijn ▁doelstellingen ▁en ▁werd ▁bevolen ▁meer ▁daad kracht ▁te ▁tonen . ▁xxmaj ▁de ▁xxmaj ▁duitse ▁planning ▁bestond ▁er ▁vooral ▁uit ▁om ▁de ▁schade ▁aan ▁eigen ▁eenheden ▁zoveel ▁mogelijk ▁te ▁beperken . ▁xxmaj ▁de ▁directe ▁gevolgen ▁van ▁enkele ▁vorige ▁offensieve n ▁maakte ▁duidelijk ▁dat ▁de ▁uiteindelijke ▁doelstelling ▁van ▁de ▁xxmaj ▁sovjets ▁xxmaj ▁minsk ▁was . ▁xxmaj ▁er ▁werd ▁dan ▁ook ▁op ▁26 ▁juni ▁de ▁toestemming ▁gegeven ▁aan ▁de ▁5 de ▁xxmaj ▁pantserdivisie ▁om ▁zich ▁van ▁xxmaj ▁oekraïne ▁naar ▁wit - rusland ▁te ▁verplaatsen ▁om ▁te ▁helpen ▁bij ▁de ▁verdediging ▁van ▁de ▁stad . ▁xxmaj ▁tegen ▁de ▁tijd ▁dat ▁de ▁operatie ▁begon , ▁was ▁het ▁4 de ▁xxmaj ▁duitse ▁xxmaj ▁leger ▁al ▁geflankeerd ▁in ▁het ▁noorden ▁en ▁het ▁zuiden . ▁xxmaj ▁ondanks ▁dit ▁werd ▁bevolen ▁om ▁stand ▁te ▁houden . ▁xxmaj ▁de ▁centrale ▁korps en ▁daarentegen ▁waren ▁uiteen gevallen ▁door ▁hevige ▁luchtaanvallen ▁terwijl ▁ze ▁een ▁poging ▁ondernam en ▁de ▁xxmaj ▁be rez ina ▁over ▁te ▁steken ▁tijdens ▁een ▁tegenaanval , ▁waarbij ▁twee ▁korps commandant en ▁gedood ▁werden . ▁xxmaj ▁ noot : ▁bovenstaande ▁eenheden ▁vielen ▁allen ▁onder ▁de ▁leiding ▁van ▁veldmaarschalk ▁xxmaj ▁walter ▁xxmaj ▁model ▁( leger groep ▁xxmaj ▁midden ) ▁xxmaj ▁het ▁ offensief ▁verliep ▁in ▁drie ▁fasen : ▁de ▁doorbraak ▁door ▁de ▁eerste ▁xxmaj ▁duitse ▁defensie linie s ▁langs ▁de ▁xxmaj ▁be rez ina , ▁de ▁voortgang ▁van ▁de ▁gemotoriseerde ▁verkennings eenheden , ▁en ▁de ▁uiteindelijke ▁om singel ing ▁van ▁het ▁xxmaj ▁duitse ▁xxmaj ▁vierde ▁xxmaj ▁leger , ▁samen ▁met ▁de ▁bevrijding ▁van ▁xxmaj ▁minsk . ▁xxmaj ▁rond ▁26 ▁juni ▁had ▁het ▁xxmaj ▁duitse ▁xxup ▁ o kh ▁zich ▁uiteindelijk ▁gerealiseerd ▁dat ▁xxmaj ▁operatie ▁xxmaj ▁ bag ration ▁wel ▁degelijk ▁het ▁hoofd offensief ▁was , ▁en ▁het ▁hoofddoel ▁van ▁de ▁xxmaj ▁sovjets ▁xxmaj ▁minsk ▁was . ▁xxmaj ▁daarom ▁werd ▁de ▁5 de ▁xxmaj ▁pantserdivisie , ▁zoals ▁eerder ▁al ▁vermeld , ▁van ▁noord - oe kra ïne ▁naar ▁wit - rusland ▁overgebracht , ▁met ▁de ▁zo ▁goed ▁als ▁onmogelijk e ▁taak ▁het ▁xxmaj ▁rode ▁xxmaj ▁leger , ▁dat ▁ver ▁in ▁de ▁meerderheid ▁was , ▁tegen ▁te ▁houden ▁om ▁de ▁ineenstorting ▁van ▁xxmaj ▁leger groep ▁xxmaj ▁midden ▁te ▁voorkomen . ▁xxmaj ▁de ▁divisie ▁arriveerde ▁op ▁27 ▁juni . ▁xxmaj ▁tegen ▁die ▁tijd ▁was ▁de ▁situatie ▁al ▁dan ig ▁vers le chter d : ▁in ▁de ▁noordelijke ▁sector ▁van ▁xxmaj ▁leger groep ▁xxmaj ▁midden ▁was ▁het ▁xxmaj ▁derde ▁xxmaj ▁pantser leger ▁bez weken ▁onder ▁de ▁druk , ▁met ▁het ▁xxup ▁li ii ▁xxmaj ▁korps ▁volledig ▁verslagen , ▁het ▁xxup ▁vi ▁xxmaj ▁korps ▁ge haven d , ▁en ▁het ▁xxup ▁ix ▁xxmaj ▁korps ▁gestaag ▁naar ▁het ▁westen ▁gedreven . ▁xxmaj ▁meer ▁naar ▁het ▁zuiden ▁verloor ▁het ▁xxmaj ▁negende ▁xxmaj ▁leger ▁grip ▁op ▁de ▁front linie , ▁en ▁de ▁resterende ▁troepen ▁werden ▁uitge d und ▁door ▁constante ▁hevige ▁bombardementen ▁door ▁de ▁xxmaj ▁russische ▁artillerie ▁en ▁luchtmacht . ▁xxmaj ▁ondanks ▁dit , ▁werd ▁het ▁xxmaj ▁vierde ▁xxmaj ▁leger ▁bevolen ▁stand ▁te ▁houden : ▁xxmaj ▁hitler ▁had ▁xxmaj ▁minsk ▁tot ▁een ▁\" fest ung \", ▁oftewel ▁versterkte ▁stad , ▁verklaard . ▁xxmaj ▁het ▁5 de ▁xxmaj ▁pantser leger ▁werd ▁in ▁een ▁gevechts groep ▁georganiseerd ▁onder ▁leiding ▁van ▁xxmaj ▁dietrich ▁von ▁xxmaj ▁sau cken ▁ , ▁en ▁nam ▁posities ▁in ▁in ▁de ▁buurt ▁van ▁xxmaj ▁boris ov ▁aan ▁de ▁hoofdweg ▁ten ▁oosten ▁van ▁xxmaj ▁minsk . ▁xxmaj ▁de ▁belangrijkste ▁regiment en ▁van ▁dat ▁leger , ▁die , ▁in ▁tegenstelling ▁tot ▁de ▁meeste ▁andere ▁xxmaj ▁duitse ▁tank eenheden , ▁volledig ▁uitgerust ▁waren , ▁beschermd en ▁de ▁spoorlijnen , ▁die ▁voor ▁een ▁eventuele ▁evacuatie ▁gebruikt ▁zouden ▁worden . ▁xxmaj ▁de ▁weg ▁zelf ▁werd ▁verdedigd ▁door ▁infanterie regiment en , ▁terwijl ▁het ▁50 5 de ▁xxmaj ▁zware ▁xxmaj ▁tank bat tal ion ▁de ▁spoorlijn ▁bij ▁xxmaj ▁kru p ki , ▁richting ▁het ▁oosten , ▁probeerde ▁te ▁behouden . ▁xxmaj ▁er ▁waren ▁weinig ▁reserve s ▁in ▁dit ▁gebied ▁waarmee ▁een ▁verdediging ▁georganiseerd ▁kon ▁worden . ▁xxmaj ▁enkele ▁versterkingen ▁werden ▁wel ▁gestuurd ▁in ▁de ▁vorm ▁van ▁\" gruppe ▁von ▁xxmaj ▁ gott berg \" ▁en ▁de ▁xxmaj ▁ dir le wang er - ▁en ▁xxmaj ▁kam inski brigade s , ▁die ▁ verantwoordelijk ▁waren ▁voor ▁wrede ▁oorlogsmisdaden ▁in ▁de ▁loop ▁van ▁de ▁hele ▁oorlog . ▁xxmaj ▁de ▁bruggen ▁over ▁het ▁zuidelijke re ▁gedeelte ▁van ▁de ▁xxmaj ▁be rez ina ▁werden ▁verdedigd ▁door ▁bijeen gesch raap te ▁politie detachement en , ▁\" gruppe ▁xxmaj ▁ anhalt \" ▁genoemd . ▁xxmaj ▁op ▁28 ▁juni ▁steven de ▁het ▁5 de ▁xxmaj ▁garde tank leger ▁op ▁xxmaj ▁minsk ▁af ▁vanuit ▁het ▁noordoosten , ▁terwijl ▁het ▁2 de ▁xxmaj ▁garde tank leger ▁de ▁stad ▁vanuit ▁het ▁oosten ▁naderde . ▁xxmaj ▁de ▁voorhoede ▁van ▁het ▁5 de ▁xxmaj ▁garde tank leger , ▁gesteund ▁met ▁enkele ▁infanterie - eenheden ▁van ▁het ▁11 de ▁xxmaj ▁garde leger ▁viel ▁rechtstreeks ▁aan ▁op ▁de ▁weg ▁naar ▁xxmaj ▁minsk , ▁waardoor ▁de ▁xxmaj ▁duitse ▁infanterie ▁tot ▁in ▁xxmaj ▁boris ov ▁teruggedrongen ▁werd . ▁xxmaj ▁de ▁xxmaj ▁duitse ▁genie ▁b lies ▁daarop ▁de ▁bruggen ▁over ▁de ▁xxmaj ▁be rez ina ▁op ▁om ▁de ▁sovjets ▁de ▁toegang ▁tot ▁de ▁stad ▁te ▁ont zegge n . ▁xxmaj ▁tegelijkertijd ▁nam ▁\" gruppe ▁von ▁xxmaj ▁sau cken \" ▁posities ▁in ▁het ▁noordwesten ▁van ▁xxmaj ▁minsk ▁in , ▁waar ▁het ▁5 de ▁xxmaj ▁garde tank leger ▁dreigde ▁de ▁spoorwegen ▁naar ▁de ▁stad ▁af ▁te ▁ snijden . ▁xxmaj ▁de ▁val ▁van ▁de ▁stad ▁was ▁nabij : ▁het ▁65 ste ▁xxmaj ▁leger ▁naderde ▁vanuit ▁het ▁zuiden , ▁het ▁5 de ▁xxmaj ▁garde tank leger ▁vanuit ▁het ▁noorden , ▁en ▁het ▁2 de ▁xxmaj ▁garde tank korps ▁had ▁net ▁de ▁xxmaj ▁be rez ina ▁over gestoken . ▁xxmaj ▁in ▁de ▁tussentijd ▁trokken ▁4 ▁divisies ▁van ▁het ▁xxmaj ▁duitse ▁xxup ▁ xxx ix ▁xxmaj ▁pantser korps ▁terug ▁uit ▁de ▁stad ▁xxmaj ▁be rez ino , ▁ten ▁zuiden ▁van ▁xxmaj ▁boris ov , ▁in ▁een ▁poging ▁te ▁ontsnappen ▁aan ▁de ▁dreigende ▁om singel ing . ▁xxmaj ▁het ▁gevolg ▁was ▁een ▁kilometers lange ▁rij ▁van ▁pantser voertuigen , ▁tanks ▁en ▁vrachtwagens , ▁die ▁onder ▁constant ▁vliegtuig vuur ▁lagen , ▁en ▁meerdere ▁stukken ▁weg ▁werden ▁beschadigd ▁door ▁de ▁vele ▁bombardementen . ▁xxmaj ▁de ▁vervangen de ▁korps commandant , ▁xxmaj ▁otto ▁xxmaj ▁sch ün e mann , ▁werd ▁op ▁29 ▁juni ▁gedood , ▁waarop ▁het ▁gehele ▁korps ▁begon ▁te ▁de sint e gr eren . ▁xxmaj ▁de ▁delen ▁van ▁xxmaj ▁leger groep ▁xxmaj ▁midden , ▁die ▁xxmaj ▁minsk ▁moesten ▁gaan ▁verdedigen , ▁begonnen ▁zich ▁toch ▁voor ▁te ▁bereiden ▁op ▁een ▁terugtrekking ▁op ▁1 ▁juli , ▁maar ▁de ▁toestemming ▁werd ▁pas ▁een ▁dag ▁later ▁gegeven . ▁xxmaj ▁von ▁xxmaj ▁sau cken ▁en ▁de ▁5 de ▁xxmaj ▁pantserdivisie ▁moesten ▁terug vallen ▁richt ig ▁xxmaj ▁mol o de zj no ; ▁xxmaj ▁von ▁xxmaj ▁ gott berg ▁trok ▁zijn ▁eenheden ▁richting ▁xxmaj ▁lid a ▁terug . ▁xxmaj ▁terwijl ▁nog ▁steeds ▁meerdere ▁delen ▁van ▁het ▁xxmaj ▁duits ▁xxmaj ▁vierde ▁xxmaj ▁leger ▁langs ▁het ▁oosten ▁van ▁de ▁stad ▁probeerden ▁te ▁trekken , ▁brak ▁het ▁5 de ▁xxmaj ▁garde tank korps ▁door ▁de ▁verdediging ▁van ▁de ▁laatste ▁xxmaj ▁duitse ▁troepen ▁in ▁xxmaj ▁minsk ▁op ▁3 ▁juli ▁in ▁de ▁vroege ▁ochtend . ▁xxmaj ▁de ▁volgende ▁dag ▁waren ▁de ▁laatste ▁xxmaj ▁duitsers , ▁die ▁zich ▁probeerden ▁versch uilen ▁in ▁kelder s , ▁gevangengenomen ▁of ▁gedood . ▁xxmaj ▁doordat ▁de ▁stad ▁bevrijd ▁werd , ▁zat ▁nagenoeg ▁het ▁hele ▁xxmaj ▁vierde ▁xxmaj ▁duitse ▁xxmaj ▁leger , ▁samen ▁met ▁significante ▁delen ▁van ▁het ▁xxmaj ▁negende , ▁in ▁de ▁val . ▁xxmaj ▁gedurende ▁de ▁volgende ▁dagen ▁deed ▁het ▁xxmaj ▁vierde ▁xxmaj ▁leger ▁verscheidene ▁pogingen ▁om ▁door ▁zijn ▁om singel ing ▁te ▁breken . ▁xxmaj ▁de ▁grootste ▁groep ▁van ▁omsingeld e ▁troepen , ▁bij ▁de ▁stad ▁xxmaj ▁pe kali n , ▁betrof ▁de ▁divisies ▁van ▁het ▁xxup ▁xii ▁xxmaj ▁korps , ▁die ▁daarvoor ▁relatief ▁intact ▁de ▁strijd ▁uit ▁waren ▁gekomen , ▁en ▁de ▁delen ▁van ▁het ▁xxup ▁ xx vi i ▁xxmaj ▁korps ▁die ▁zich ▁bij ▁xxmaj ▁or sja ▁succesvol ▁terug trokken ▁hadden . ▁xxmaj ▁de ▁korps commandant en , ▁xxmaj ▁müller ▁en ▁xxmaj ▁v öl cker s , ▁besloten ▁op ▁5 ▁juli ▁dat ▁er ▁alles ▁aan ▁zou ▁moeten ▁gedaan ▁worden ▁om ▁uit ▁te ▁breken ▁naar ▁het ▁westen ▁en ▁noordwesten , ▁samen ▁met ▁de ▁restanten ▁van ▁xxmaj ▁martin ek s ▁voormalige ▁xxup ▁ xxx ix ▁xxmaj ▁pantser korps : ▁ze ▁waren ▁toen ▁al ▁100 ▁km ▁achter ▁de ▁front linie , ▁en ▁met ▁de ▁dag ▁krom p ▁de ▁hoop ▁op ▁een ▁eventuele ▁bevrijding . ▁xxmaj ▁de ▁25 ste ▁xxmaj ▁pantser grenadier s divisie ▁was ▁de ▁speerpunt ▁van ▁deze ▁aanval , ▁die ▁' s ▁nachts ▁op ▁5 ▁juli ▁begon . ▁xxmaj ▁echter ▁mislukte ▁deze ▁aanval , ▁met ▁vele ▁doden ▁aan ▁xxmaj ▁duitse ▁zijde . ▁xxmaj ▁toch ▁wisten ▁enkele ▁ detachement en ▁de ▁xxmaj ▁duitse ▁linies ▁te ▁bereiken ▁ten ▁noorden ▁van ▁xxmaj ▁minsk . ▁xxmaj ▁daarop ▁probeerde ▁de ▁57 ste ▁xxmaj ▁in fanteriedivisie ▁en ▁\" panzer grenadier - division ▁xxmaj ▁ feld her rn halle \" ▁ook ▁uit ▁te ▁breken , ▁en ▁deze ▁keer ▁langs ▁het ▁zuiden ▁van ▁xxmaj ▁minsk ▁te ▁ontsnappen , ▁wat ▁op ▁een ▁ramp ▁uit draai de . ▁xxmaj ▁hetzelfde ▁lot ▁onderging ▁de ▁ 78 ste ▁xxmaj ▁storm divisie , ▁na ▁een ▁in ▁het ▁begin ▁wel ▁succesvolle ▁poging . ▁xxmaj ▁delen ▁van ▁de ▁14 de ▁xxmaj ▁in fanteriedivisie ▁onder ▁leiding ▁van ▁luitenant - generaal ▁xxmaj ▁fl ör ke ▁slaagden ▁erin ▁zich ▁samen ▁te ▁voegen ▁met ▁de ▁31 ste ▁en ▁12 de ▁xxmaj ▁in fanteriedivisie s , ▁en ▁konden ▁uit ▁de ▁om singel ing ▁ontsnappen . ▁luitenant - generaal ▁xxmaj ▁müller , ▁die ▁was ▁benoemd ▁tot ▁hoofd ▁van ▁het ▁xxmaj ▁vierde ▁xxmaj ▁leger , ▁werd ▁op ▁8 ▁juli ▁gevangengenomen ▁na ▁een ▁mislukte ▁uitbraak poging . ▁xxmaj ▁hij ▁beval ▁onmiddellijk ▁al ▁zijn ▁troepen ▁om ▁zich ▁over ▁te ▁geven , ▁wat ▁werd ▁verspreid ▁door ▁xxmaj ▁sovjet troepen ▁met ▁grote ▁luid spreker s ▁en ▁pamfletten ▁uit ▁de ▁lucht . ▁xxmaj ▁een ▁groot ▁deel ▁van ▁de ▁xxmaj ▁duitse ▁soldaten ▁en ▁bevelhebber s ▁besloot ▁echter ▁deze ▁oproep ▁te ▁negeren ▁en ▁bleef ▁doorgaan ▁met ▁pogingen ▁tot ▁een ▁uitbraak . ▁xxmaj ▁in ▁totaal ▁werden ▁ongeveer ▁100.000 ▁xxmaj ▁duitse ▁soldaten ▁gevangen ▁genomen ▁tijdens ▁de ▁om singel ing , ▁en ▁ 40.000 ▁werden ▁gedood . ▁xxmaj ▁de ▁wit - russische ▁partizanen ▁speelden ▁een ▁belangrijke ▁rol ▁bij ▁het ▁ lok aliseren ▁en ▁ s abo teren ▁van ▁de ▁xxmaj ▁duitse ▁troepen .,▁xxbos ▁xxmaj ▁coc hab amba ▁( stad ) ▁xxmaj ▁coc hab amba ▁is ▁een ▁stad ▁in ▁centraal - bol i via , ▁de ▁hoofdstad ▁van ▁het ▁xxmaj ▁bolivia anse ▁departement ▁xxmaj ▁coc hab amba ▁en ▁de ▁derde ▁stad ▁van ▁xxmaj ▁bolivia ▁met ▁een ▁inwonertal ▁van ▁meer ▁dan ▁ 800.000 , ▁gelegen ▁in ▁de ▁gelijknamige ▁vallei ▁in ▁de ▁xxmaj ▁andes . ▁xxmaj ▁op ▁2 ▁augustus ▁15 71 ▁werd ▁de ▁stad ▁gesticht ▁in ▁opdracht ▁van ▁xxmaj ▁onder koning ▁xxmaj ▁francisco ▁de ▁xxmaj ▁toledo . ▁xxmaj ▁het ▁moest ▁een ▁agrarisch ▁productie centrum ▁worden ▁om ▁eten ▁te ▁produceren ▁voor ▁de ▁mijn steden ▁in ▁het ▁relatief ▁dichtbij gelegen ▁gebied ▁van ▁de ▁xxmaj ▁hoogland ▁van ▁xxmaj ▁bolivia , ▁met ▁name ▁voor ▁de ▁stad ▁xxmaj ▁pot os í . ▁xxmaj ▁de ▁naam ▁van ▁de ▁stad ▁is ▁ontstaan ▁uit ▁een ▁samenstelling ▁van ▁de ▁xxmaj ▁ que chu a ▁woorden ▁\" g ho cha \" ▁( meer ) ▁en ▁\" p amp a \" ▁( open ▁ vlakte ). ▁xxmaj ▁in ▁de ▁eerste ▁eeuwen ▁van ▁zijn ▁bestaan ▁voer ▁xxmaj ▁coc hab amba ▁wel ▁bij ▁het ▁hoogtepunt ▁van ▁de ▁zilver mijn bouw . ▁xxmaj ▁in ▁de ▁18 e ▁eeuw ▁ging ▁het ▁de ▁stad ▁minder ▁voor ▁de ▁wind ▁toen ▁de ▁mijnbouw ▁af ▁begon ▁te ▁nemen . ▁xxmaj ▁sinds ▁het ▁eind ▁van ▁de ▁19 e ▁eeuw ▁is ▁de ▁stad ▁weer ▁gaan ▁groeien ▁als ▁agrarisch ▁centrum ▁van ▁xxmaj ▁bolivia . ▁xxmaj ▁tussen ▁januari ▁en ▁april ▁2000 ▁hebben ▁zich ▁in ▁xxmaj ▁coc hab amba ▁grootschalige ▁ betoging en ▁voor gedaan ▁tegen ▁het ▁ privat iseren ▁van ▁het ▁waterleiding bedrijf ▁van ▁de ▁stad . ▁xxmaj ▁na ▁vele ▁grootschalige ▁acties ▁met ▁zelfs ▁enkele ▁dodelijke ▁slachtoffers ▁heeft ▁de ▁regering ▁uiteindelijk ▁gewonnen ▁gegeven ▁op ▁10 ▁april ▁2000 ▁en ▁is ▁de ▁privatisering ▁terug gedraaid . ▁xxmaj ▁tegenwoordig ▁is ▁xxmaj ▁coc hab amba ▁een ▁economisch ▁actieve ▁stad ▁en ▁heeft ▁het ▁de ▁naam ▁een ▁van ▁de ▁liberaal ste ▁steden ▁in ▁het ▁land ▁te ▁zijn . ▁xxmaj ▁net ▁als ▁andere ▁grote ▁steden ▁in ▁de ▁xxmaj ▁andes ▁is ▁xxmaj ▁coc hab amba ▁een ▁stad ▁van ▁tegenstelling en . ▁xxmaj ▁de ▁binnenstad , ▁rond ▁wijken ▁als ▁\" pla za ▁xxmaj ▁col ón \" ▁of ▁\" pla za ▁14 ▁de ▁xxmaj ▁sept ie m bre \", ▁is ▁over ▁het ▁algemeen ▁vrij ▁modern . ▁xxmaj ▁er ▁zijn ▁uit gaan s gebieden , ▁levendige ▁straten ▁en ▁on telbaar ▁veel ▁auto ' s ▁en ▁internet café s ▁te ▁vinden . ▁xxmaj ▁in ▁deze ▁buurten ▁zijn ▁de ▁meeste ▁bedrijven ▁en ▁winkel centra ▁gevestigd . ▁xxmaj ▁drukke ▁uit gaan s centra ▁zijn ▁ge centre erd ▁rond ▁de ▁\" call e ▁xxmaj ▁esp aña \" ▁(\" spanje straat \") ▁en ▁rond ▁de ▁boulevard ▁\" el ▁xxmaj ▁pra do \". ▁xxmaj ▁hoe ▁verder ▁men ▁echter ▁van ▁het ▁stadscentrum ▁af gaat , ▁hoe ▁minder ▁ techno logisch ▁ge ava nc eerd ▁de ▁buurten ▁worden . ▁xxmaj ▁coc hab amba ' s ▁buiten wijk en ▁kennen ▁veel ▁ crimin aliteit ▁en ▁moeten ▁het ▁vaak ▁doen ▁zonder ▁elektriciteit , ▁riolering ▁en ▁best rating . ▁xxmaj ▁in ▁de ▁stad ▁bevindt ▁zich ▁zuid - amerika ' s ▁grootste ▁openlucht markt , ▁\" la ▁xxmaj ▁can cha \". ▁xxmaj ▁deze ▁markt ▁is ▁zeven ▁dagen ▁per ▁week ▁geopend ▁en ▁de ▁druk ste ▁markt dagen ▁zijn ▁woensdag ▁en ▁zaterdag . ▁xxmaj ▁de ▁stad ▁huis t ▁ook ▁een ▁van ▁de ▁grootste ▁en ▁meest ▁prominente ▁universiteiten ▁van ▁het ▁land , ▁\" universidad ▁xxmaj ▁may or ▁de ▁xxmaj ▁san ▁xxmaj ▁sim ón \". ▁xxmaj ▁inwoners ▁van ▁de ▁stad ▁worden ▁vaak ▁\" co cha b ambi nos \" ▁genoemd . ▁xxmaj ▁coc hab amba ▁heeft ▁een ▁eigen ▁vliegveld , ▁het ▁xxmaj ▁aero pu er to ▁xxmaj ▁internacional ▁xxmaj ▁jorge ▁xxmaj ▁wil ster mann ▁( ia ta - code ▁xxup ▁c bb ), ▁dat ▁binnenlandse ▁en ▁internationale ▁vluchten ▁af handel t . ▁xxmaj ▁hier ▁is ▁ook ▁het ▁hoofdkantoor ▁van ▁xxmaj ▁bolivia ' s ▁nationale ▁luchtvaart maatschappij ▁gevestigd , ▁xxmaj ▁lloyd ▁xxmaj ▁ aer eo ▁xxmaj ▁bolivia no .,▁xxbos ▁xxmaj ▁fi br euze ▁ dy s plas ie ▁xxmaj ▁fi br euze ▁ dy s plas ie ▁is ▁een ▁ stoornis ▁in ▁het ▁bot ▁die ▁wordt ▁gekenmerkt ▁door ▁de ▁afwezigheid ▁van ▁ gezond ▁bot weefsel . ▁xxmaj ▁hiervoor ▁in ▁de ▁plaats ▁vindt ▁men ▁bin d weefsel , ▁meestal ▁op ▁de ▁plek ▁waar ▁men ▁beenmerg ▁verwacht . ▁xxmaj ▁de ▁ziekte ▁is ▁goed aard ig , ▁de ▁ afwijking ▁blijft ▁lokaal , ▁za a it ▁dus ▁niet ▁uit . ▁xxmaj ▁hij ▁kan ▁op ▁één ▁enkele ▁plek ▁( mono sto tisch ) ▁of ▁op ▁meerdere ▁plekken ▁( poly sto tisch ) ▁in ▁het ▁skelet ▁aanwezig ▁zijn . ▁xxmaj ▁er ▁zijn ▁twee ▁syn drom en ▁bekend ▁waar ▁fi br euze ▁ dy s plas ie ▁een ▁van ▁de ▁symptomen ▁is . ▁xxmaj ▁dit ▁zijn ▁het ▁mcc une ▁xxmaj ▁al bright syndroom ▁en ▁het ▁xxmaj ▁ma za bra ud ▁syndroom . ▁xxmaj ▁meestal ▁wordt ▁de ▁ziekte ▁ontdekt ▁als ▁men ▁tussen ▁de ▁10 ▁en ▁30 ▁jaar ▁oud ▁is . ▁xxmaj ▁het ▁bin d weefsel ▁zorgt ▁ervoor ▁dat ▁het ▁bot ▁zwakker ▁is . ▁xxmaj ▁het ▁kan ▁dan ▁spontaan ▁breken , ▁er ▁is ▁geen ▁andere ▁aan wijs bare ▁oorzaak ▁waarom ▁het ▁bot ▁gebroken ▁is . ▁xxmaj ▁andere ▁symptomen ▁kunnen ▁zijn ▁pijn ▁en ▁vervorming ▁van ▁het ▁bot . ▁xxmaj ▁de ▁precieze ▁oorzaak ▁van ▁fi br euze ▁ dy s plas ie ▁is ▁niet ▁bekend . ▁xxmaj ▁het ▁is ▁een ▁aan geboren ▁ziekte , ▁maar ▁hij ▁is ▁niet ▁erf elijk . ▁xxmaj ▁het ▁ontstaat ▁tijdens ▁de ▁zwangerschap ▁door ▁een ▁genetische ▁ afwijking ▁( mutatie ) ▁in ▁de ▁cellen . ▁xxmaj ▁bij ▁alle ▁vormen ▁van ▁fi br euze ▁ dy s plas ie , ▁behalve ▁mcc une ▁xxmaj ▁al bright , ▁zit ▁de ▁ mutatie ▁enkel ▁in ▁de ▁cellen ▁die ▁bot ▁aan maken . ▁xxmaj ▁bij ▁mcc une ▁xxmaj ▁al bright ▁kan ▁de ▁ mutatie ▁ook ▁zitten ▁in ▁huid cellen ▁en ▁in ▁cellen ▁die ▁ hormonen ▁moeten ▁aan maken . ▁xxmaj ▁om ▁de ▁diagnose ▁fi br euze ▁ dy s plas ie ▁te ▁stellen ▁kan ▁gebruikgemaakt ▁worden ▁van ▁de ▁volgende ▁onderzoeken : ▁xxmaj ▁de ▁ziekte ▁is ▁niet ▁te ▁genezen . ▁xxmaj ▁meestal ▁werken ▁ ort hop e den ▁samen ▁met ▁andere ▁disciplines , ▁zoals ▁een ▁en doc rin oloog ▁en ▁een ▁radio loog ▁om ▁zo ▁de ▁beste ▁behandeling ▁mogelijk ▁te ▁maken . ▁xxmaj ▁waar ▁men ▁voorheen ▁meteen ▁chirurg isch ▁behandelde ▁is ▁de ▁behandeling ▁tegenwoordig ▁vooral ▁gericht ▁op ▁ monitor en ▁van ▁de ▁conditie ▁van ▁het ▁bot , ▁het ▁verlicht en ▁van ▁pijn klachten ▁en ▁het ▁ver ste vig en ▁van ▁het ▁bot weefsel ▁zodat ▁een ▁operatie ve ▁in greep ▁zolang ▁mogelijk ▁uitgesteld ▁kan ▁worden . ▁xxmaj ▁het ▁ monitor en ▁wordt ▁gedaan ▁door ▁het ▁maken ▁van ▁periodieke ▁röntgen foto ' s ▁en ▁het ▁doen ▁van ▁bloed - ▁en ▁urine onderzoek . ▁xxmaj ▁verlicht en ▁van ▁pijn klachten ▁en ▁het ▁ver ste vig en ▁van ▁het ▁nog ▁aanwezige ▁gezonde ▁bot weefsel ▁wordt ▁gedaan ▁door ▁medicatie , ▁dit ▁wordt ▁door ▁de ▁en doc rin oloog ▁voorgeschreven . ▁xxmaj ▁indien ▁men ▁operatie f ▁dient ▁in ▁te ▁grijpen ▁omdat ▁het ▁bot ▁te ▁verzwakt ▁is ▁of ▁men ▁te ▁veel ▁pijn ▁heeft , ▁dan ▁kan ▁het ▁zijn ▁dat ▁het ▁aangetast e ▁ weefsel ▁verwijderd ▁wordt ▁en ▁vervangen ▁( bot transplantatie ) ▁of ▁dat ▁het ▁bot ▁verstevigd ▁wordt ▁door ▁een ▁im plant aat . ▁xxmaj ▁daar ▁de ▁ziekte ▁niet ▁veel ▁voorkomt ▁zijn ▁er ▁maar ▁een ▁paar ▁ ort hop ed ische ▁afdelingen ▁in ▁xxmaj ▁nederland ▁hiervoor ▁gespecialiseerd ▁en ▁zal ▁men ▁daar heen ▁verwezen ▁worden .\n",
       "y: LMLabelList\n",
       ",,,,\n",
       "Path: /storage/nlwiki_sp/docs"
      ]
     },
     "execution_count": 15,
     "metadata": {},
     "output_type": "execute_result"
    }
   ],
   "source": [
    "#  data.train_ds[:5]"
   ]
  },
  {
   "cell_type": "code",
   "execution_count": 17,
   "metadata": {},
   "outputs": [
    {
     "data": {
      "text/html": [
       "<table border=\"1\" class=\"dataframe\">\n",
       "  <thead>\n",
       "    <tr style=\"text-align: right;\">\n",
       "      <th>idx</th>\n",
       "      <th>text</th>\n",
       "    </tr>\n",
       "  </thead>\n",
       "  <tbody>\n",
       "    <tr>\n",
       "      <td>0</td>\n",
       "      <td>▁een ▁( aan getrouwd e ) ▁nicht ▁van ▁de ▁xxmaj ▁byzantijnse ▁keizer ▁xxmaj ▁johannes ▁i ▁xxmaj ▁ tz imi s kes . ▁xxmaj ▁op ▁14 ▁april ▁9 72 ▁huwde ▁zij ▁op ▁ongeveer ▁twaalf jarige ▁leeftijd ▁met ▁keizer ▁xxmaj ▁otto ▁xxup ▁ii ▁en ▁werd ▁zodoende ▁keizerin ▁van ▁het ▁xxmaj ▁heilige ▁xxmaj ▁roomse ▁xxmaj ▁rijk . ▁xxmaj ▁na ▁de ▁dood ▁van ▁xxmaj ▁otto ▁xxup ▁ii ▁werd ▁zij ▁regentes ▁voor ▁haar ▁zoon ▁keizer</td>\n",
       "    </tr>\n",
       "    <tr>\n",
       "      <td>1</td>\n",
       "      <td>▁schrijver ▁xxmaj ▁joan ▁xxmaj ▁tri ad ú ▁(19 21 -2010 ). ▁xxmaj ▁op ▁23 ▁september ▁2012 ▁is ▁xxmaj ▁ mart í ▁xxmaj ▁gas ull ▁i ▁xxmaj ▁ro ig , ▁stichten d ▁lid ▁en ▁be ziel er ▁van ▁de ▁organisatie , ▁tijdens ▁het ▁berg be klimmen ▁in ▁xxmaj ▁nepal ▁ver ongeluk t . ▁xxmaj ▁te ▁zijn er ▁ere ▁werd ▁in ▁het ▁xxmaj ▁te a tre ▁xxmaj ▁nacional ▁in ▁xxmaj ▁barcelona ▁op</td>\n",
       "    </tr>\n",
       "    <tr>\n",
       "      <td>2</td>\n",
       "      <td>▁haar ▁leven ▁en ▁beeldend ▁werk ▁van ▁tijdgenoten . ▁xxmaj ▁in ▁2008 ▁werd ▁in ▁haar ▁voormalig ▁woonhuis ▁aan ▁de ▁xxmaj ▁oude kamp ▁1 ▁te ▁xxmaj ▁utrecht ▁een ▁museum ▁ter ▁ere ▁van ▁haar ▁werk ▁ingericht , ▁dat ▁zo ' n ▁vier ▁jaar ▁heeft ▁bestaan . ▁xxmaj ▁vanuit ▁de ▁stichting ▁\" dir kje ▁xxmaj ▁ku ik \" ▁wordt ▁haar ▁artistieke ▁nalatenschap ▁beheerd . ▁xxbos ▁xxmaj ▁kluis ▁van ▁xxmaj ▁santa ▁xxmaj ▁maria ▁della ▁xxmaj</td>\n",
       "    </tr>\n",
       "    <tr>\n",
       "      <td>3</td>\n",
       "      <td>▁munteenheid ▁die ▁in ▁verschillende ▁xxmaj ▁arabische ▁landen ▁wordt ▁gebruikt , ▁en ▁in ▁\" dine ro \", ▁het ▁xxmaj ▁spaanse ▁woord ▁voor ▁geld . ▁xxmaj ▁ook ▁de ▁oude ▁xxmaj ▁franse ▁munteenheid ▁\" de nier \" ▁is ▁van ▁\" den arius \" ▁afgeleid . ▁xxmaj ▁prijzen ▁in ▁xxmaj ▁engeland ▁werden ▁tot ▁de ▁invoering ▁van ▁het ▁de ci maal ▁systeem ▁uitgedrukt ▁in ▁xxup ▁\" l ▁/ ▁ s ▁/ ▁ d \", ▁voor</td>\n",
       "    </tr>\n",
       "    <tr>\n",
       "      <td>4</td>\n",
       "      <td>. ▁xxmaj ▁arnold ▁werd ▁echter ▁al ▁snel ▁aan ▁de ▁deur ▁gezet ▁en ▁de ▁nieuwe ▁coach ▁van ▁het ▁team ▁had ▁weinig ▁interesse ▁in ▁xxmaj ▁vu ković , ▁voor ▁hem ▁kwam ▁het ▁uiteindelijk ▁niet ▁verder ▁dan ▁2 ▁basisplaats en ▁in ▁de ▁beker ▁en ▁een ▁aantal ▁keer ▁op ▁de ▁bank ▁plaats nemen ▁in ▁de ▁competitie . ▁xxmaj ▁na ▁een ▁passage ▁van ▁1 ▁seizoen ▁bij ▁xxmaj ▁melbourne ▁xxmaj ▁victor y ▁xxup ▁fc ▁tekende ▁xxmaj</td>\n",
       "    </tr>\n",
       "  </tbody>\n",
       "</table>"
      ],
      "text/plain": [
       "<IPython.core.display.HTML object>"
      ]
     },
     "metadata": {},
     "output_type": "display_data"
    }
   ],
   "source": [
    "# data.show_batch()"
   ]
  },
  {
   "cell_type": "markdown",
   "metadata": {},
   "source": [
    "## Train language model"
   ]
  },
  {
   "cell_type": "code",
   "execution_count": 10,
   "metadata": {},
   "outputs": [],
   "source": [
    "data = load_data(dest, f'{lang}_databunch_sp', bs=bs, num_workers=1)"
   ]
  },
  {
   "cell_type": "code",
   "execution_count": 11,
   "metadata": {},
   "outputs": [],
   "source": [
    "# data.train_ds[:1]"
   ]
  },
  {
   "cell_type": "code",
   "execution_count": 12,
   "metadata": {},
   "outputs": [],
   "source": [
    "# learn = language_model_learner(data, AWD_LSTM, drop_mult=0.5, pretrained=False).to_fp16()\n",
    "# learn = language_model_learner(data, AWD_LSTM, drop_mult=1.0, pretrained=False)\n",
    "learn = language_model_learner(data, AWD_LSTM, drop_mult=0.5, pretrained=False)"
   ]
  },
  {
   "cell_type": "code",
   "execution_count": 13,
   "metadata": {},
   "outputs": [],
   "source": [
    "learn.unfreeze()"
   ]
  },
  {
   "cell_type": "code",
   "execution_count": 23,
   "metadata": {
    "scrolled": true
   },
   "outputs": [
    {
     "data": {
      "text/html": [],
      "text/plain": [
       "<IPython.core.display.HTML object>"
      ]
     },
     "metadata": {},
     "output_type": "display_data"
    },
    {
     "name": "stdout",
     "output_type": "stream",
     "text": [
      "LR Finder is complete, type {learner_name}.recorder.plot() to see the graph.\n"
     ]
    },
    {
     "data": {
      "image/png": "[encoded data removed]",
      "text/plain": [
       "<Figure size 432x288 with 1 Axes>"
      ]
     },
     "metadata": {
      "needs_background": "light"
     },
     "output_type": "display_data"
    }
   ],
   "source": [
    "learn.lr_find()\n",
    "learn.recorder.plot()"
   ]
  },
  {
   "cell_type": "code",
   "execution_count": 14,
   "metadata": {},
   "outputs": [],
   "source": [
    "# lr = 5e-3\n",
    "lr = 1e-2"
   ]
  },
  {
   "cell_type": "code",
   "execution_count": 15,
   "metadata": {},
   "outputs": [],
   "source": [
    "# learn.fit_one_cycle(1, lr, moms=(0.8, 0.7))"
   ]
  },
  {
   "cell_type": "code",
   "execution_count": 16,
   "metadata": {
    "scrolled": true
   },
   "outputs": [],
   "source": [
    "# Previous run (lr = 5e-3)\n",
    "# learn.fit_one_cycle(5, lr, moms=(0.8, 0.7))"
   ]
  },
  {
   "cell_type": "code",
   "execution_count": 17,
   "metadata": {},
   "outputs": [
    {
     "data": {
      "text/html": [
       "<table border=\"1\" class=\"dataframe\">\n",
       "  <thead>\n",
       "    <tr style=\"text-align: left;\">\n",
       "      <th>epoch</th>\n",
       "      <th>train_loss</th>\n",
       "      <th>valid_loss</th>\n",
       "      <th>accuracy</th>\n",
       "      <th>time</th>\n",
       "    </tr>\n",
       "  </thead>\n",
       "  <tbody>\n",
       "    <tr>\n",
       "      <td>0</td>\n",
       "      <td>3.855634</td>\n",
       "      <td>3.813769</td>\n",
       "      <td>0.325507</td>\n",
       "      <td>1:31:38</td>\n",
       "    </tr>\n",
       "    <tr>\n",
       "      <td>1</td>\n",
       "      <td>3.701236</td>\n",
       "      <td>3.653547</td>\n",
       "      <td>0.338750</td>\n",
       "      <td>1:31:51</td>\n",
       "    </tr>\n",
       "    <tr>\n",
       "      <td>2</td>\n",
       "      <td>3.664930</td>\n",
       "      <td>3.611376</td>\n",
       "      <td>0.342618</td>\n",
       "      <td>1:31:48</td>\n",
       "    </tr>\n",
       "    <tr>\n",
       "      <td>3</td>\n",
       "      <td>3.593063</td>\n",
       "      <td>3.534426</td>\n",
       "      <td>0.350695</td>\n",
       "      <td>1:31:48</td>\n",
       "    </tr>\n",
       "    <tr>\n",
       "      <td>4</td>\n",
       "      <td>3.523953</td>\n",
       "      <td>3.459822</td>\n",
       "      <td>0.359211</td>\n",
       "      <td>1:31:58</td>\n",
       "    </tr>\n",
       "    <tr>\n",
       "      <td>5</td>\n",
       "      <td>3.461168</td>\n",
       "      <td>3.384177</td>\n",
       "      <td>0.367894</td>\n",
       "      <td>1:31:56</td>\n",
       "    </tr>\n",
       "    <tr>\n",
       "      <td>6</td>\n",
       "      <td>3.388975</td>\n",
       "      <td>3.302083</td>\n",
       "      <td>0.377617</td>\n",
       "      <td>1:31:46</td>\n",
       "    </tr>\n",
       "    <tr>\n",
       "      <td>7</td>\n",
       "      <td>3.327637</td>\n",
       "      <td>3.230100</td>\n",
       "      <td>0.386704</td>\n",
       "      <td>1:31:51</td>\n",
       "    </tr>\n",
       "    <tr>\n",
       "      <td>8</td>\n",
       "      <td>3.279748</td>\n",
       "      <td>3.182951</td>\n",
       "      <td>0.392979</td>\n",
       "      <td>1:31:51</td>\n",
       "    </tr>\n",
       "    <tr>\n",
       "      <td>9</td>\n",
       "      <td>3.263349</td>\n",
       "      <td>3.170890</td>\n",
       "      <td>0.394636</td>\n",
       "      <td>1:31:50</td>\n",
       "    </tr>\n",
       "  </tbody>\n",
       "</table>"
      ],
      "text/plain": [
       "<IPython.core.display.HTML object>"
      ]
     },
     "metadata": {},
     "output_type": "display_data"
    }
   ],
   "source": [
    "learn.fit_one_cycle(10, lr, moms=(0.8, 0.7))"
   ]
  },
  {
   "cell_type": "code",
   "execution_count": 18,
   "metadata": {},
   "outputs": [],
   "source": [
    "mdl_path = path/'models'\n",
    "mdl_path.mkdir(exist_ok=True)\n",
    "# learn.to_fp32().save(mdl_path/lm_fns[0], with_opt=False)\n",
    "learn.save(mdl_path/lm_fns[0], with_opt=False)\n",
    "learn.data.vocab.save(mdl_path/(lm_fns[1] + '.pkl'))"
   ]
  },
  {
   "cell_type": "code",
   "execution_count": 19,
   "metadata": {},
   "outputs": [
    {
     "name": "stdout",
     "output_type": "stream",
     "text": [
      "In zijn laatste roman ▁xxmaj ▁in ▁proza ▁is ▁xxmaj ▁the ▁xxmaj ▁ twilight ▁xxmaj ▁zone ▁een ▁xxmaj ▁engelstalige ▁ thriller ▁/ ▁horrorfilm ▁uit ▁2008 ▁geregisseerd ▁door ▁xxmaj ▁peter ▁xxmaj ▁gabriel . ▁xxmaj ▁het ▁is ▁de ▁tweede ▁xxmaj ▁ ava ▁xxmaj ▁ ava ▁xxmaj ▁dracula\n",
      "In zijn laatste roman ▁xxmaj ▁in ▁de ▁xxmaj ▁nederlandse ▁geschiedenis ▁is ▁een ▁roman ▁van ▁xxmaj ▁jan ▁xxmaj ▁ mul isch ▁\" de ▁xxmaj ▁ mul ta t uli ▁of ▁xxmaj ▁ pos e \" ▁(18 93) ▁en ▁\" de ▁xxmaj ▁ paradijs in \"\n"
     ]
    }
   ],
   "source": [
    "TEXT = \"In zijn laatste roman\"\n",
    "N_WORDS = 40\n",
    "N_SENTENCES = 2\n",
    "\n",
    "print(\"\\n\".join(learn.predict(TEXT, N_WORDS, temperature=0.75) for _ in range(N_SENTENCES)))"
   ]
  },
  {
   "cell_type": "code",
   "execution_count": 20,
   "metadata": {},
   "outputs": [],
   "source": [
    "# learn = language_model_learner(data, AWD_LSTM, drop_mult=1., \n",
    "#                                   path = path, \n",
    "#                                   pretrained_fnames=lm_fns)\n",
    "learn.export()"
   ]
  },
  {
   "cell_type": "code",
   "execution_count": 21,
   "metadata": {},
   "outputs": [
    {
     "name": "stdout",
     "output_type": "stream",
     "text": [
      "Albert Einstein\n",
      "\n",
      "Albert Einstein ▁( berlijn , ▁30 ▁juni ▁1926 ▁ - ▁xxmaj ▁amsterdam , ▁11 ▁augustus ▁1985) ▁was ▁een ▁xxmaj ▁duits ▁componist , ▁muziekpedagoog ▁en ▁muziekpedagoog . ▁xxmaj ▁hij ▁is ▁actief ▁in ▁de ▁muziek , ▁ akoestiek ▁en ▁componeren . ▁xxmaj ▁hij ▁was ▁de ▁zoon ▁van ▁een ▁piano bouwer . ▁xxmaj ▁anton ▁xxmaj ▁weiss ▁was ▁een ▁neef ▁van ▁xxmaj ▁ fran tz ▁xxmaj ▁david ▁xxmaj ▁kri zing . ▁xxmaj ▁in ▁de ▁jaren ▁dertig ▁van ▁de ▁20 e ▁eeuw ▁was ▁hij ▁een ▁van ▁de ▁eerste n ▁die ▁aan ▁de ▁ methodologie ▁van ▁het ▁xxmaj ▁ musik paleis ▁in ▁xxmaj ▁berlijn ▁een ▁bijdrage ▁leveren , ▁hetgeen ▁hem ▁in ▁xxmaj ▁berlijn ▁een ▁vooraanstaande ▁plaats ▁bezorgde . ▁xxmaj ▁bij ▁xxmaj ▁fritz ▁xxmaj ▁ rie ß lein ▁was ▁hij ▁docent ▁aan ▁het ▁xxmaj ▁residentie ▁xxmaj ▁conservatorium ▁in ▁xxmaj ▁leipzig . ▁xxmaj ▁tot ▁1937 ▁verbleef ▁hij ▁in ▁xxmaj ▁berlijn . ▁xxmaj ▁als ▁componist ▁xxmaj ▁frédéric ▁xxmaj ▁chopin ▁schreef ▁hij ▁vooral ▁voor ▁de ▁xxmaj ▁ accademia ▁de i ▁xxmaj ▁camera no , ▁die ▁hij ▁in ▁1919 ▁uitbracht ▁en ▁waar ▁hij ▁zijn ▁carrière ▁als ▁dirigent ▁voortzette . ▁xxmaj ▁hij ▁was ▁een ▁van ▁de ▁grondleggers ▁van ▁de ▁xxmaj ▁ accademia ▁xxmaj ▁nazionale ▁xxmaj ▁ accademia ▁xxmaj ▁nazionale ▁di ▁xxmaj ▁san ▁xxmaj ▁giorgio . ▁xxmaj ▁hij ▁was ▁ook ▁een ▁van ▁de ▁medeoprichter s ▁van ▁de ▁xxmaj ▁ accademia ▁di ▁xxmaj ▁music a ▁xxmaj ▁nazionale . ▁xxmaj ▁hij ▁was ▁ook ▁docent ▁aan ▁het ▁xxmaj ▁conservator io ▁xxmaj ▁superior ▁de ▁xxmaj ▁música ▁xxmaj ▁nacional ▁di ▁xxmaj ▁can ton ▁xxmaj ▁di ▁xxmaj ▁cor u ñ a . ▁xxmaj ▁hij ▁was ▁ook ▁docent ▁aan ▁de ▁xxmaj ▁conservator io ▁ d ' arte ▁di ▁xxmaj ▁stra da ▁in ▁xxmaj ▁florence . ▁xxmaj ▁in ▁1934 ▁werd ▁hij ▁de ▁medeoprichter ▁van ▁de ▁xxmaj ▁ accademia ▁xxmaj ▁nazionale ▁di ▁xxmaj ▁santa ▁xxmaj ▁cecil ia ▁in ▁xxmaj ▁rome . ▁xxmaj ▁van ▁1950 ▁tot ▁1970 ▁was ▁hij ▁lid ▁van ▁de ▁xxmaj ▁in fra dio ▁xxmaj ▁concert o ▁de lle ▁ d ' or . ▁xxmaj ▁in ▁1967 ▁werd ▁hij ▁opgenomen ▁in ▁de ▁xxmaj ▁italiaanse ▁xxmaj ▁familie ▁van ▁de ▁xxmaj ▁heilige ▁xxmaj ▁maagd . ▁xxmaj ▁een ▁belangrijke ▁xxmaj ▁giuseppe ▁xxmaj ▁del ▁xxmaj ▁ musik ▁klank en drager ▁was ▁xxmaj ▁giacomo ▁xxmaj ▁meyer beer . ▁xxmaj ▁hij ▁was ▁tevens ▁dirigent ▁en ▁organist ▁van ▁de ▁xxmaj ▁kathedraal ▁van ▁xxmaj ▁san ▁xxmaj ▁marco . ▁xxmaj ▁hij ▁was ▁ook ▁een ▁van ▁de ▁stichter s ▁van ▁het ▁xxmaj ▁com un ist ▁of ▁xxmaj ▁youth ▁met ▁xxmaj ▁philip ▁xxmaj ▁glas s , ▁oprichter ▁van ▁het ▁xxmaj ▁ensemble ▁xxmaj ▁moderne ▁xxmaj ▁de s ▁xxmaj ▁prince s ▁in ▁xxmaj ▁parijs . ▁xxmaj ▁in ▁1985 ▁werd ▁xxmaj ▁ aldo ▁xxmaj ▁bruno ▁xxmaj ▁ biel ▁geslagen ▁en ▁onderscheiden ▁met ▁een ▁benoeming ▁tot ▁eerste ▁xxmaj ▁ ren ate ▁in ▁xxmaj ▁italië . ▁xxmaj ▁tevens ▁ontving ▁hij ▁een ▁gouden ▁medaille ▁van ▁de ▁xxmaj ▁orde ▁van ▁de ▁xxmaj ▁vlaamse ▁xxmaj ▁leeuw . ▁xxmaj ▁ aldo ▁xxmaj ▁ bia gio ▁xxmaj ▁giuli o , ▁een ▁zoon ▁van ▁de ▁componist ▁xxmaj ▁giovanni ▁xxmaj ▁ battista ▁xxmaj ▁ abba do , ▁kreeg ▁in ▁2005 ▁de ▁xxmaj ▁orde ▁van ▁xxmaj ▁verdienste\n"
     ]
    }
   ],
   "source": [
    "TEXT = '''Albert Einstein\n",
    "\n",
    "Albert Einstein'''\n",
    "N_WORDS = 500\n",
    "N_SENTENCES = 1\n",
    "\n",
    "print(\"\\n\".join(learn.predict(TEXT, N_WORDS, temperature=0.75) for _ in range(N_SENTENCES)))"
   ]
  },
  {
   "cell_type": "code",
   "execution_count": null,
   "metadata": {},
   "outputs": [],
   "source": []
  }
 ],
 "metadata": {
  "kernelspec": {
   "display_name": "Python 3",
   "language": "python",
   "name": "python3"
  },
  "language_info": {
   "codemirror_mode": {
    "name": "ipython",
    "version": 3
   },
   "file_extension": ".py",
   "mimetype": "text/x-python",
   "name": "python",
   "nbconvert_exporter": "python",
   "pygments_lexer": "ipython3",
   "version": "3.6.7"
  }
 },
 "nbformat": 4,
 "nbformat_minor": 2
}
