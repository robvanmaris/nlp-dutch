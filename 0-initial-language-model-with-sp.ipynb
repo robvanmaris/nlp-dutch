{
 "cells": [
  {
   "cell_type": "markdown",
   "metadata": {},
   "source": [
    "# With SentencePiece tokenizer"
   ]
  },
  {
   "cell_type": "markdown",
   "metadata": {},
   "source": [
    "## Initial setup"
   ]
  },
  {
   "cell_type": "code",
   "execution_count": 43,
   "metadata": {},
   "outputs": [],
   "source": [
    "%reload_ext autoreload\n",
    "%autoreload 2\n",
    "%matplotlib inline"
   ]
  },
  {
   "cell_type": "code",
   "execution_count": 44,
   "metadata": {},
   "outputs": [],
   "source": [
    "from fastai import *\n",
    "from fastai.text import *"
   ]
  },
  {
   "cell_type": "code",
   "execution_count": 45,
   "metadata": {},
   "outputs": [],
   "source": [
    "bs = 256"
   ]
  },
  {
   "cell_type": "code",
   "execution_count": 46,
   "metadata": {},
   "outputs": [],
   "source": [
    "data_path = Config.data_path()\n",
    "lang = 'nl'\n",
    "name = f'{lang}wiki_sp' # Use a different directory.\n",
    "path = data_path/name\n",
    "path.mkdir(exist_ok=True, parents=True)\n",
    "lm_fns = [f'{lang}_wt', f'{lang}_wt_vocab']"
   ]
  },
  {
   "cell_type": "markdown",
   "metadata": {},
   "source": [
    "## Download wikipedia data"
   ]
  },
  {
   "cell_type": "code",
   "execution_count": 47,
   "metadata": {},
   "outputs": [],
   "source": [
    "from nlputils import split_wiki,get_wiki"
   ]
  },
  {
   "cell_type": "code",
   "execution_count": 48,
   "metadata": {},
   "outputs": [
    {
     "name": "stdout",
     "output_type": "stream",
     "text": [
      "/storage/nlwiki_sp/nlwiki already exists; not downloading\n"
     ]
    }
   ],
   "source": [
    "get_wiki(path, lang)"
   ]
  },
  {
   "cell_type": "code",
   "execution_count": 49,
   "metadata": {},
   "outputs": [
    {
     "data": {
      "text/plain": [
       "[PosixPath('/storage/nlwiki_sp/wikiextractor'),\n",
       " PosixPath('/storage/nlwiki_sp/nlwiki-latest-pages-articles.xml'),\n",
       " PosixPath('/storage/nlwiki_sp/nlwiki'),\n",
       " PosixPath('/storage/nlwiki_sp/docs'),\n",
       " PosixPath('/storage/nlwiki_sp/models'),\n",
       " PosixPath('/storage/nlwiki_sp/copy_docs.py')]"
      ]
     },
     "execution_count": 49,
     "metadata": {},
     "output_type": "execute_result"
    }
   ],
   "source": [
    "path.ls()"
   ]
  },
  {
   "cell_type": "markdown",
   "metadata": {},
   "source": [
    "### Split in separate files"
   ]
  },
  {
   "cell_type": "code",
   "execution_count": 50,
   "metadata": {},
   "outputs": [
    {
     "name": "stdout",
     "output_type": "stream",
     "text": [
      "/storage/nlwiki_sp/docs already exists; not splitting\n"
     ]
    }
   ],
   "source": [
    "dest = split_wiki(path, lang)"
   ]
  },
  {
   "cell_type": "code",
   "execution_count": 51,
   "metadata": {},
   "outputs": [
    {
     "data": {
      "text/plain": [
       "[PosixPath('/storage/nlwiki_sp/docs/Theophanu.txt'),\n",
       " PosixPath('/storage/nlwiki_sp/docs/Witte dovenetel.txt'),\n",
       " PosixPath('/storage/nlwiki_sp/docs/Vorstendom Saksen-Hildburghausen.txt'),\n",
       " PosixPath('/storage/nlwiki_sp/docs/Sylvain Poons.txt'),\n",
       " PosixPath('/storage/nlwiki_sp/docs/Palmach.txt')]"
      ]
     },
     "execution_count": 51,
     "metadata": {},
     "output_type": "execute_result"
    }
   ],
   "source": [
    "dest.ls()[:5]"
   ]
  },
  {
   "cell_type": "markdown",
   "metadata": {},
   "source": [
    "## Create databunch for language model"
   ]
  },
  {
   "cell_type": "code",
   "execution_count": 52,
   "metadata": {},
   "outputs": [
    {
     "data": {
      "text/plain": [
       "(30000, 20234)"
      ]
     },
     "execution_count": 52,
     "metadata": {},
     "output_type": "execute_result"
    }
   ],
   "source": [
    "data = (TextList.from_folder(dest, processor=[OpenFileProcessor(), SPProcessor()])\n",
    "       .split_by_rand_pct(0.1, seed=42)\n",
    "       .label_for_lm()\n",
    "       .databunch(bs=bs, num_workers=1))\n",
    "data.save(f'{lang}_databunch_sp')  # Different databunch\n",
    "len(data.vocab.itos),len(data.train_ds)"
   ]
  },
  {
   "cell_type": "code",
   "execution_count": 53,
   "metadata": {},
   "outputs": [],
   "source": [
    "# data.train_ds[:5]"
   ]
  },
  {
   "cell_type": "code",
   "execution_count": 54,
   "metadata": {},
   "outputs": [],
   "source": [
    "# data.show_batch()"
   ]
  },
  {
   "cell_type": "markdown",
   "metadata": {},
   "source": [
    "## Train language model"
   ]
  },
  {
   "cell_type": "code",
   "execution_count": 55,
   "metadata": {},
   "outputs": [],
   "source": [
    "data = load_data(dest, f'{lang}_databunch_sp', bs=bs, num_workers=1)"
   ]
  },
  {
   "cell_type": "code",
   "execution_count": 56,
   "metadata": {},
   "outputs": [],
   "source": [
    "# data.train_ds[:1]"
   ]
  },
  {
   "cell_type": "code",
   "execution_count": 58,
   "metadata": {},
   "outputs": [],
   "source": [
    "# learn = language_model_learner(data, AWD_LSTM, drop_mult=0.5, pretrained=False).to_fp16()\n",
    "# learn = language_model_learner(data, AWD_LSTM, drop_mult=1.0, pretrained=False)\n",
    "learn = language_model_learner(data, AWD_LSTM, drop_mult=0.5, pretrained=False)"
   ]
  },
  {
   "cell_type": "code",
   "execution_count": 59,
   "metadata": {},
   "outputs": [],
   "source": [
    "learn.unfreeze()"
   ]
  },
  {
   "cell_type": "code",
   "execution_count": 60,
   "metadata": {},
   "outputs": [
    {
     "data": {
      "text/html": [],
      "text/plain": [
       "<IPython.core.display.HTML object>"
      ]
     },
     "metadata": {},
     "output_type": "display_data"
    },
    {
     "name": "stdout",
     "output_type": "stream",
     "text": [
      "LR Finder is complete, type {learner_name}.recorder.plot() to see the graph.\n"
     ]
    },
    {
     "data": {
      "image/png": "[encoded data removed]",
      "text/plain": [
       "<Figure size 432x288 with 1 Axes>"
      ]
     },
     "metadata": {
      "needs_background": "light"
     },
     "output_type": "display_data"
    }
   ],
   "source": [
    "learn.lr_find()\n",
    "learn.recorder.plot()"
   ]
  },
  {
   "cell_type": "code",
   "execution_count": 34,
   "metadata": {},
   "outputs": [],
   "source": [
    "lr = 1e-2"
   ]
  },
  {
   "cell_type": "code",
   "execution_count": 61,
   "metadata": {},
   "outputs": [],
   "source": [
    "# learn.fit_one_cycle(1, lr, moms=(0.8, 0.7))"
   ]
  },
  {
   "cell_type": "code",
   "execution_count": null,
   "metadata": {
    "scrolled": true
   },
   "outputs": [
    {
     "data": {
      "text/html": [
       "\n",
       "    <div>\n",
       "        <style>\n",
       "            /* Turns off some styling */\n",
       "            progress {\n",
       "                /* gets rid of default border in Firefox and Opera. */\n",
       "                border: none;\n",
       "                /* Needs to be in here for Safari polyfill so background images work as expected. */\n",
       "                background-size: auto;\n",
       "            }\n",
       "            .progress-bar-interrupted, .progress-bar-interrupted::-webkit-progress-bar {\n",
       "                background: #F44336;\n",
       "            }\n",
       "        </style>\n",
       "      <progress value='9' class='' max='10', style='width:300px; height:20px; vertical-align: middle;'></progress>\n",
       "      90.00% [9/10 2:13:14<14:48]\n",
       "    </div>\n",
       "    \n",
       "<table border=\"1\" class=\"dataframe\">\n",
       "  <thead>\n",
       "    <tr style=\"text-align: left;\">\n",
       "      <th>epoch</th>\n",
       "      <th>train_loss</th>\n",
       "      <th>valid_loss</th>\n",
       "      <th>accuracy</th>\n",
       "      <th>time</th>\n",
       "    </tr>\n",
       "  </thead>\n",
       "  <tbody>\n",
       "    <tr>\n",
       "      <td>0</td>\n",
       "      <td>4.727635</td>\n",
       "      <td>4.705405</td>\n",
       "      <td>0.257645</td>\n",
       "      <td>14:46</td>\n",
       "    </tr>\n",
       "    <tr>\n",
       "      <td>1</td>\n",
       "      <td>4.192041</td>\n",
       "      <td>4.226868</td>\n",
       "      <td>0.287183</td>\n",
       "      <td>14:48</td>\n",
       "    </tr>\n",
       "    <tr>\n",
       "      <td>2</td>\n",
       "      <td>4.072420</td>\n",
       "      <td>4.110917</td>\n",
       "      <td>0.295557</td>\n",
       "      <td>14:48</td>\n",
       "    </tr>\n",
       "    <tr>\n",
       "      <td>3</td>\n",
       "      <td>3.973411</td>\n",
       "      <td>4.003163</td>\n",
       "      <td>0.305398</td>\n",
       "      <td>14:48</td>\n",
       "    </tr>\n",
       "    <tr>\n",
       "      <td>4</td>\n",
       "      <td>3.869847</td>\n",
       "      <td>3.911924</td>\n",
       "      <td>0.314261</td>\n",
       "      <td>14:48</td>\n",
       "    </tr>\n",
       "    <tr>\n",
       "      <td>5</td>\n",
       "      <td>3.742104</td>\n",
       "      <td>3.823921</td>\n",
       "      <td>0.323439</td>\n",
       "      <td>14:48</td>\n",
       "    </tr>\n",
       "    <tr>\n",
       "      <td>6</td>\n",
       "      <td>3.646791</td>\n",
       "      <td>3.739624</td>\n",
       "      <td>0.332859</td>\n",
       "      <td>14:47</td>\n",
       "    </tr>\n",
       "    <tr>\n",
       "      <td>7</td>\n",
       "      <td>3.554666</td>\n",
       "      <td>3.675453</td>\n",
       "      <td>0.340242</td>\n",
       "      <td>14:48</td>\n",
       "    </tr>\n",
       "    <tr>\n",
       "      <td>8</td>\n",
       "      <td>3.426699</td>\n",
       "      <td>3.644755</td>\n",
       "      <td>0.344291</td>\n",
       "      <td>14:48</td>\n",
       "    </tr>\n",
       "  </tbody>\n",
       "</table><p>\n",
       "\n",
       "    <div>\n",
       "        <style>\n",
       "            /* Turns off some styling */\n",
       "            progress {\n",
       "                /* gets rid of default border in Firefox and Opera. */\n",
       "                border: none;\n",
       "                /* Needs to be in here for Safari polyfill so background images work as expected. */\n",
       "                background-size: auto;\n",
       "            }\n",
       "            .progress-bar-interrupted, .progress-bar-interrupted::-webkit-progress-bar {\n",
       "                background: #F44336;\n",
       "            }\n",
       "        </style>\n",
       "      <progress value='302' class='' max='1193', style='width:300px; height:20px; vertical-align: middle;'></progress>\n",
       "      25.31% [302/1193 03:36<10:38 3.3913]\n",
       "    </div>\n",
       "    "
      ],
      "text/plain": [
       "<IPython.core.display.HTML object>"
      ]
     },
     "metadata": {},
     "output_type": "display_data"
    }
   ],
   "source": [
    "learn.fit_one_cycle(10, lr, moms=(0.8, 0.7))\n",
    "# learn.fit_one_cycle(5, lr, moms=(0.8, 0.7))"
   ]
  },
  {
   "cell_type": "code",
   "execution_count": 36,
   "metadata": {},
   "outputs": [],
   "source": [
    "mdl_path = path/'models'\n",
    "mdl_path.mkdir(exist_ok=True)\n",
    "# learn.to_fp32().save(mdl_path/lm_fns[0], with_opt=False)\n",
    "learn.save(mdl_path/lm_fns[0], with_opt=False)\n",
    "learn.data.vocab.save(mdl_path/(lm_fns[1] + '.pkl'))"
   ]
  },
  {
   "cell_type": "code",
   "execution_count": 37,
   "metadata": {},
   "outputs": [
    {
     "name": "stdout",
     "output_type": "stream",
     "text": [
      "In zijn laatste roman ▁xxmaj ▁de ▁xxmaj ▁groep ▁was ▁een ▁xxmaj ▁belgische ▁zendings dienst ▁die ▁uit ▁de ▁xxmaj ▁staf ▁is ▁van ▁de ▁xxmaj ▁lockheed ▁xxmaj ▁bahn ▁en ▁de ▁xxmaj ▁japanse ▁muziek ▁van ▁xxmaj ▁ row y ▁xxmaj ▁woman . ▁xxmaj ▁de ▁xxmaj ▁ierse ▁xxup\n",
      "In zijn laatste roman ▁xxmaj ▁het ▁xxmaj ▁ erp ▁xxup ▁( ava us ) ▁is ▁een ▁voormalige ▁xxmaj ▁amerikaanse ▁ boulevard ▁en ▁ligt ▁voor ▁de ▁xxmaj ▁franse ▁gemeenschap ▁in ▁de ▁xxmaj ▁engelstalige ▁provincie ▁xxmaj ▁utrecht . ▁xxmaj ▁het ▁is ▁een ▁van ▁de ▁12 e\n"
     ]
    }
   ],
   "source": [
    "TEXT = \"In zijn laatste roman\"\n",
    "N_WORDS = 40\n",
    "N_SENTENCES = 2\n",
    "\n",
    "print(\"\\n\".join(learn.predict(TEXT, N_WORDS, temperature=0.75) for _ in range(N_SENTENCES)))"
   ]
  },
  {
   "cell_type": "code",
   "execution_count": 38,
   "metadata": {},
   "outputs": [],
   "source": [
    "learn.predict?"
   ]
  },
  {
   "cell_type": "code",
   "execution_count": 39,
   "metadata": {},
   "outputs": [],
   "source": [
    "# learn = language_model_learner(data, AWD_LSTM, drop_mult=1., \n",
    "#                                   path = path, \n",
    "#                                   pretrained_fnames=lm_fns)\n",
    "learn.export()"
   ]
  },
  {
   "cell_type": "code",
   "execution_count": 42,
   "metadata": {},
   "outputs": [
    {
     "name": "stdout",
     "output_type": "stream",
     "text": [
      "xxbos  ▁xxmaj ▁minsk ▁( b al ieur ) ▁xxmaj ▁ sharif ▁xxmaj ▁me bus ▁( ro e ke ) ▁xxmaj ▁the ▁xxmaj ▁ an ▁xxmaj ▁ ultimate ▁xxmaj ▁believe ▁is ▁een ▁xxmaj ▁britse ▁animatiefilm ▁die ▁verscheen ▁aan ▁een ▁fusie ▁met ▁xxmaj ▁ ly sa ▁xxmaj ▁ bogey . ▁xxmaj ▁de ▁film ▁haalde ▁in ▁april ▁2009 ▁het ▁album ▁\" the ▁xxmaj ▁ board \" ▁dat ▁vóór ▁de ▁tweede ▁maal ▁in ▁het ▁laatste ▁seizoen ▁van ▁de ▁première ▁kwam , ▁de ▁xxmaj ▁kas ku san . ▁xxmaj ▁de ▁band ▁kwam ▁in ▁1950 ▁uit ▁voor ▁de ▁xxmaj ▁ hochschule ▁ compilatie - serie , ▁waardoor ▁de ▁tekst ▁kwam ▁voor ▁de ▁tweede ▁maal ▁in ▁een ▁single . ▁xxmaj ▁zij ▁vond ▁een ▁gedistribueerd ▁exemplaar ▁en ▁ging ▁in ▁de ▁geschiedenis ▁van ▁de ▁xxmaj ▁ se gunda ▁xxmaj ▁división ▁xxup ▁b . ▁xxmaj ▁de ▁band ▁werd ▁in ▁september ▁1957 ▁opgericht ▁in ▁het ▁xxmaj ▁ o ah ock s . ▁xxmaj ▁de ▁plaat ▁is ▁onder ▁meer ▁geschreven ▁door ▁xxmaj ▁ jeremy ▁xxmaj ▁ hack is ▁en ▁xxmaj ▁marten ▁xxmaj ▁caine , ▁die ▁de ▁naam ▁\" the ▁xxmaj ▁great ▁xxmaj ▁king s \" ▁heeft ▁gespeeld , ▁maar ▁er ▁was ▁geen ▁kritiek ▁over ▁de ▁film . ▁xxmaj ▁het ▁nummer ▁is ▁verkrijgbaar ▁op ▁het ▁xxmaj ▁ festival ▁van ▁xxmaj ▁parijs ▁en ▁de ▁\" new ▁xxmaj ▁york ▁xxmaj ▁times \" ▁en ▁de ▁single ▁\" the ▁xxmaj ▁world ▁xxmaj ▁ devil ▁of ▁the ▁xxmaj ▁spirit ▁xxmaj ▁ wall \" ▁van ▁xxmaj ▁the ▁xxmaj ▁beatles . ▁xxmaj ▁in ▁de ▁zomer ▁van ▁2010 ▁wordt ▁het ▁album ▁nauwelijks ▁genomineerd ▁voor ▁de ▁xxmaj ▁midland ▁xxmaj ▁award , ▁de ▁regie ▁van ▁de ▁film . ▁xxmaj ▁de ▁film ▁is ▁gebaseerd ▁op ▁een ▁nieuwe ▁versie ▁van ▁xxmaj ▁the ▁xxmaj ▁beatles . ▁xxmaj ▁het ▁album ▁is ▁in ▁de ▁serie ▁uitgebracht ▁in ▁de ▁xxmaj ▁ nederlandstalige ▁versie ▁van ▁xxmaj ▁the ▁xxmaj ▁beatles . ▁xxmaj ▁het ▁verhaal ▁is ▁gebaseerd ▁op ▁de ▁film ▁\" bas ▁xxmaj ▁ without ▁xxmaj ▁girl \" ▁van ▁xxmaj ▁paul ▁xxmaj ▁ ol s ler . ▁xxmaj ▁de ▁film ▁is ▁ook ▁een ▁populaire ▁film serie , ▁die ▁ amper ▁in ▁de ▁jaren ▁tachtig ▁werd ▁uitgebracht . ▁xxmaj ▁de ▁serie ▁is ▁genomineerd ▁voor ▁een ▁xxmaj ▁grammy ▁xxmaj ▁award ▁voor ▁xxmaj ▁ha uff . ▁xxmaj ▁op ▁ - jarige ▁leeftijd ▁werd ▁het ▁album ▁hernoemd ▁tot ▁xxmaj ▁mahler - festival . ▁xxmaj ▁een ▁paar ▁keer ▁is ▁xxmaj ▁kiwanuka ▁op ▁het ▁licht ▁van ▁xxmaj ▁johnny ▁xxmaj ▁ ks , ▁waarna ▁ze ▁tweede ▁werd , ▁maar ▁ook ▁het ▁xxmaj ▁con certgebouworkest . ▁xxmaj ▁in ▁de ▁eerste ▁single ▁\" the ▁xxmaj ▁ tonight \" ▁is ▁een ▁album ▁genaamd ▁\" the ▁xxmaj ▁ford ▁xxmaj ▁songs \" ▁uit ▁1980 , ▁waarbij ▁de ▁naam ▁\" black ▁xxmaj ▁you ▁xxmaj ▁glass \" ▁een ▁hit ▁zal ▁worden , ▁in ▁tegenstelling ▁tot ▁xxmaj ▁the ▁xxmaj ▁new ▁xxmaj ▁orleans s ▁\" . . . . \" < br > ▁xxmaj ▁op ▁de ▁nummer ▁single ▁van ▁de ▁album ▁\" in ▁xxmaj ▁ tru s ▁to ▁xxmaj ▁ third ▁xxmaj ▁park \" ▁van ▁1911 , ▁waarin ▁het ▁xxup ▁\" m . ▁xxmaj ▁big \" ▁sinds ▁1998 ▁een\n"
     ]
    }
   ],
   "source": [
    "TEXT = '''xxbos '''\n",
    "N_WORDS = 500\n",
    "N_SENTENCES = 1\n",
    "\n",
    "print(\"\\n\".join(learn.predict(TEXT, N_WORDS, temperature=0.75) for _ in range(N_SENTENCES)))"
   ]
  },
  {
   "cell_type": "code",
   "execution_count": 38,
   "metadata": {},
   "outputs": [
    {
     "data": {
      "text/plain": [
       "PosixPath('/storage')"
      ]
     },
     "execution_count": 38,
     "metadata": {},
     "output_type": "execute_result"
    }
   ],
   "source": [
    "data_path"
   ]
  },
  {
   "cell_type": "code",
   "execution_count": null,
   "metadata": {},
   "outputs": [],
   "source": []
  }
 ],
 "metadata": {
  "kernelspec": {
   "display_name": "Python 3",
   "language": "python",
   "name": "python3"
  },
  "language_info": {
   "codemirror_mode": {
    "name": "ipython",
    "version": 3
   },
   "file_extension": ".py",
   "mimetype": "text/x-python",
   "name": "python",
   "nbconvert_exporter": "python",
   "pygments_lexer": "ipython3",
   "version": "3.6.7"
  }
 },
 "nbformat": 4,
 "nbformat_minor": 2
}
