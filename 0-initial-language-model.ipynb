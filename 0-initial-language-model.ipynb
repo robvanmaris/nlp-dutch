{
 "cells": [
  {
   "cell_type": "markdown",
   "metadata": {},
   "source": [
    "## Initial setup"
   ]
  },
  {
   "cell_type": "code",
   "execution_count": 1,
   "metadata": {},
   "outputs": [],
   "source": [
    "%reload_ext autoreload\n",
    "%autoreload 2\n",
    "%matplotlib inline"
   ]
  },
  {
   "cell_type": "code",
   "execution_count": 2,
   "metadata": {},
   "outputs": [],
   "source": [
    "from fastai import *\n",
    "from fastai.text import *"
   ]
  },
  {
   "cell_type": "code",
   "execution_count": 3,
   "metadata": {},
   "outputs": [],
   "source": [
    "bs = 256"
   ]
  },
  {
   "cell_type": "code",
   "execution_count": 4,
   "metadata": {},
   "outputs": [],
   "source": [
    "data_path = Config.data_path()\n",
    "lang = 'nl'\n",
    "name = f'{lang}wiki'\n",
    "path = data_path/name\n",
    "path.mkdir(exist_ok=True, parents=True)\n",
    "lm_fns = [f'{lang}_wt', f'{lang}_wt_vocab']"
   ]
  },
  {
   "cell_type": "markdown",
   "metadata": {},
   "source": [
    "## Download wikipedia data"
   ]
  },
  {
   "cell_type": "code",
   "execution_count": 5,
   "metadata": {},
   "outputs": [],
   "source": [
    "from nlputils import split_wiki,get_wiki"
   ]
  },
  {
   "cell_type": "code",
   "execution_count": 6,
   "metadata": {},
   "outputs": [
    {
     "name": "stdout",
     "output_type": "stream",
     "text": [
      "/storage/nlwiki/nlwiki already exists; not downloading\n"
     ]
    }
   ],
   "source": [
    "get_wiki(path, lang)"
   ]
  },
  {
   "cell_type": "code",
   "execution_count": 7,
   "metadata": {},
   "outputs": [
    {
     "data": {
      "text/plain": [
       "[PosixPath('/storage/nlwiki/wikiextractor'),\n",
       " PosixPath('/storage/nlwiki/nlwiki-latest-pages-articles.xml'),\n",
       " PosixPath('/storage/nlwiki/nlwiki-latest-pages-articles-small.xml.bz2'),\n",
       " PosixPath('/storage/nlwiki/.ipynb_checkpoints'),\n",
       " PosixPath('/storage/nlwiki/nlwiki'),\n",
       " PosixPath('/storage/nlwiki/nlwiki-latest-pages-articles.xml.bz2'),\n",
       " PosixPath('/storage/nlwiki/nlwiki-latest-pages-articles-small.xml'),\n",
       " PosixPath('/storage/nlwiki/docs'),\n",
       " PosixPath('/storage/nlwiki/log')]"
      ]
     },
     "execution_count": 7,
     "metadata": {},
     "output_type": "execute_result"
    }
   ],
   "source": [
    "path.ls()"
   ]
  },
  {
   "cell_type": "markdown",
   "metadata": {},
   "source": [
    "### Split in separate files"
   ]
  },
  {
   "cell_type": "code",
   "execution_count": 8,
   "metadata": {},
   "outputs": [
    {
     "name": "stdout",
     "output_type": "stream",
     "text": [
      "/storage/nlwiki/docs already exists; not splitting\n"
     ]
    }
   ],
   "source": [
    "dest = split_wiki(path, lang)"
   ]
  },
  {
   "cell_type": "code",
   "execution_count": 9,
   "metadata": {},
   "outputs": [
    {
     "data": {
      "text/plain": [
       "[PosixPath('/storage/nlwiki/docs/Theophanu.txt'),\n",
       " PosixPath('/storage/nlwiki/docs/Witte dovenetel.txt'),\n",
       " PosixPath('/storage/nlwiki/docs/Minskoffensief.txt'),\n",
       " PosixPath('/storage/nlwiki/docs/Cochabamba (stad).txt'),\n",
       " PosixPath('/storage/nlwiki/docs/Joel Osteen.txt')]"
      ]
     },
     "execution_count": 9,
     "metadata": {},
     "output_type": "execute_result"
    }
   ],
   "source": [
    "dest.ls()[:5]"
   ]
  },
  {
   "cell_type": "markdown",
   "metadata": {},
   "source": [
    "## Create databunch for language model"
   ]
  },
  {
   "cell_type": "code",
   "execution_count": 10,
   "metadata": {},
   "outputs": [
    {
     "data": {
      "text/plain": [
       "(60000, 183926)"
      ]
     },
     "execution_count": 10,
     "metadata": {},
     "output_type": "execute_result"
    }
   ],
   "source": [
    "data = (TextList.from_folder(dest)\n",
    "       .split_by_rand_pct(0.1, seed=42)\n",
    "       .label_for_lm()\n",
    "       .databunch(bs=bs, num_workers=1))\n",
    "data.save(f'{lang}_databunch')\n",
    "len(data.vocab.itos),len(data.train_ds)"
   ]
  },
  {
   "cell_type": "code",
   "execution_count": 11,
   "metadata": {},
   "outputs": [],
   "source": [
    "# data.train_ds[:5]"
   ]
  },
  {
   "cell_type": "markdown",
   "metadata": {},
   "source": [
    "## Train language model"
   ]
  },
  {
   "cell_type": "code",
   "execution_count": 10,
   "metadata": {},
   "outputs": [],
   "source": [
    "data = load_data(dest, f'{lang}_databunch', bs=bs, num_workers=1)"
   ]
  },
  {
   "cell_type": "code",
   "execution_count": 11,
   "metadata": {},
   "outputs": [],
   "source": [
    "# data.train_ds[:1]"
   ]
  },
  {
   "cell_type": "code",
   "execution_count": 12,
   "metadata": {},
   "outputs": [],
   "source": [
    "# learn = language_model_learner(data, AWD_LSTM, drop_mult=0.5, pretrained=False).to_fp16()\n",
    "learn = language_model_learner(data, AWD_LSTM, drop_mult=1.0, pretrained=False)"
   ]
  },
  {
   "cell_type": "code",
   "execution_count": 13,
   "metadata": {},
   "outputs": [],
   "source": [
    "learn.unfreeze()"
   ]
  },
  {
   "cell_type": "code",
   "execution_count": 14,
   "metadata": {},
   "outputs": [],
   "source": [
    "# learn.lr_find()\n",
    "# learn.recorder.plot()"
   ]
  },
  {
   "cell_type": "code",
   "execution_count": 15,
   "metadata": {},
   "outputs": [],
   "source": [
    "lr = 1e-2"
   ]
  },
  {
   "cell_type": "code",
   "execution_count": 16,
   "metadata": {},
   "outputs": [],
   "source": [
    "# learn.fit_one_cycle(1, lr, moms=(0.8, 0.7))"
   ]
  },
  {
   "cell_type": "code",
   "execution_count": 17,
   "metadata": {
    "scrolled": true
   },
   "outputs": [
    {
     "data": {
      "text/html": [
       "<table border=\"1\" class=\"dataframe\">\n",
       "  <thead>\n",
       "    <tr style=\"text-align: left;\">\n",
       "      <th>epoch</th>\n",
       "      <th>train_loss</th>\n",
       "      <th>valid_loss</th>\n",
       "      <th>accuracy</th>\n",
       "      <th>time</th>\n",
       "    </tr>\n",
       "  </thead>\n",
       "  <tbody>\n",
       "    <tr>\n",
       "      <td>0</td>\n",
       "      <td>3.524150</td>\n",
       "      <td>3.377209</td>\n",
       "      <td>0.373016</td>\n",
       "      <td>2:02:17</td>\n",
       "    </tr>\n",
       "    <tr>\n",
       "      <td>1</td>\n",
       "      <td>3.460805</td>\n",
       "      <td>3.315189</td>\n",
       "      <td>0.375193</td>\n",
       "      <td>2:02:05</td>\n",
       "    </tr>\n",
       "    <tr>\n",
       "      <td>2</td>\n",
       "      <td>3.445260</td>\n",
       "      <td>3.289851</td>\n",
       "      <td>0.378650</td>\n",
       "      <td>2:02:03</td>\n",
       "    </tr>\n",
       "    <tr>\n",
       "      <td>3</td>\n",
       "      <td>3.404821</td>\n",
       "      <td>3.240744</td>\n",
       "      <td>0.382945</td>\n",
       "      <td>2:01:59</td>\n",
       "    </tr>\n",
       "    <tr>\n",
       "      <td>4</td>\n",
       "      <td>3.363085</td>\n",
       "      <td>3.197753</td>\n",
       "      <td>0.387393</td>\n",
       "      <td>2:02:03</td>\n",
       "    </tr>\n",
       "    <tr>\n",
       "      <td>5</td>\n",
       "      <td>3.308877</td>\n",
       "      <td>3.138483</td>\n",
       "      <td>0.393465</td>\n",
       "      <td>2:02:04</td>\n",
       "    </tr>\n",
       "    <tr>\n",
       "      <td>6</td>\n",
       "      <td>3.250464</td>\n",
       "      <td>3.077751</td>\n",
       "      <td>0.399487</td>\n",
       "      <td>2:02:05</td>\n",
       "    </tr>\n",
       "    <tr>\n",
       "      <td>7</td>\n",
       "      <td>3.184076</td>\n",
       "      <td>3.016916</td>\n",
       "      <td>0.406360</td>\n",
       "      <td>2:02:02</td>\n",
       "    </tr>\n",
       "    <tr>\n",
       "      <td>8</td>\n",
       "      <td>3.162227</td>\n",
       "      <td>2.972598</td>\n",
       "      <td>0.411225</td>\n",
       "      <td>2:02:06</td>\n",
       "    </tr>\n",
       "    <tr>\n",
       "      <td>9</td>\n",
       "      <td>3.130161</td>\n",
       "      <td>2.958975</td>\n",
       "      <td>0.412856</td>\n",
       "      <td>2:02:06</td>\n",
       "    </tr>\n",
       "  </tbody>\n",
       "</table>"
      ],
      "text/plain": [
       "<IPython.core.display.HTML object>"
      ]
     },
     "metadata": {},
     "output_type": "display_data"
    }
   ],
   "source": [
    "learn.fit_one_cycle(10, lr, moms=(0.8, 0.7))\n",
    "# learn.fit_one_cycle(4, lr, moms=(0.8, 0.7))"
   ]
  },
  {
   "cell_type": "code",
   "execution_count": 18,
   "metadata": {},
   "outputs": [],
   "source": [
    "mdl_path = path/'models'\n",
    "mdl_path.mkdir(exist_ok=True)\n",
    "# learn.to_fp32().save(mdl_path/lm_fns[0], with_opt=False)\n",
    "learn.save(mdl_path/lm_fns[0], with_opt=False)\n",
    "learn.data.vocab.save(mdl_path/(lm_fns[1] + '.pkl'))"
   ]
  },
  {
   "cell_type": "code",
   "execution_count": 19,
   "metadata": {},
   "outputs": [
    {
     "name": "stdout",
     "output_type": "stream",
     "text": [
      "In zijn laatste roman \n",
      " \n",
      "  In de Nederlandse vertaling van \" De Zeven Koningen \" ( Nederlands : \" Het huis van de koning \" ) is een Nederlandse roman uit 1977 van de Nederlandse\n",
      "In zijn laatste roman ( De ban van de ring ) \n",
      " \n",
      "  In de ban is een roman van de Nederlandse schrijver Maarten Thijssen . Het verhaal werd in 1956 door Gerard Reve verfilmd en is\n"
     ]
    }
   ],
   "source": [
    "TEXT = \"In zijn laatste roman\"\n",
    "N_WORDS = 40\n",
    "N_SENTENCES = 2\n",
    "\n",
    "print(\"\\n\".join(learn.predict(TEXT, N_WORDS, temperature=0.75) for _ in range(N_SENTENCES)))"
   ]
  },
  {
   "cell_type": "code",
   "execution_count": 20,
   "metadata": {},
   "outputs": [],
   "source": [
    "learn.predict?"
   ]
  },
  {
   "cell_type": "code",
   "execution_count": 33,
   "metadata": {},
   "outputs": [
    {
     "name": "stdout",
     "output_type": "stream",
     "text": [
      "Jan Wolkers was afkomstig uit een gereformeerd milieu waar hij in zijn tienerjaren afstand van heeft genomen. De ouders van Wolkers (Jan Hendrik Wolkers sr. 1890-1976 en Jannetje van der Heijde 1899-1979) kwamen oorspronkelijk uit Amsterdam en hadden in totaal elf kinderen, van wie Jan het derde was. Vader Wolkers bezat voor de Tweede Wereldoorlog een slecht lopende kruidenierswinkel in Oegstgeest. In zijn jeugd was hij al op jonge leeftijd betrokken bij de Nederlandse Hervormde Kerk . Na zijn eindexamen ging hij naar de Katholieke Universiteit Delft , waar hij in 1954 de \" Theologische School \" studeerde . In 1954 werd hij predikant te Gouda . \n",
      " \n",
      "  In 1964 werd hij predikant in Leiden , waar hij van 1966 tot 1978 werkzaam was . In 1981 werd hij predikant in Vlaardingen , waar hij onder meer als predikant werkzaam was . \n",
      " \n",
      "  Na zijn afstuderen was Hij redacteur van de VARA - gids \" Het Parool \" , waarin hij tot 1988 redacteur was . Vanaf 1975 was hij redacteur van het tijdschrift \" De Dijk \" . Inmiddels was hij onder andere werkzaam in het Haagse tijdschrift Het Parool . In 1975 werd hij hoofdredacteur van het blad \" De Groene Amsterdammer \" . Ook schreef hij enige columns voor het \" Haarlems Dagblad \" . \n",
      " \n",
      "  In 1978 werd hij secretaris van de Stichting Hollands Maandblad , een initiatief van Kees Fens , een uitgever van boeken die de ' Vrije Universiteit ' in Amsterdam zou overnemen . In 1979 werd hij benoemd tot directeur van de Werkgroep De Nederlandsche Taal en werd hij benoemd tot lid van de Raad van State . \n",
      " \n",
      "  In 1983 was hij lid van de Nederlandse Vereniging van Journalisten . In 1987 werd hij benoemd tot Ridder in de Orde van de Nederlandse Leeuw . In 2008 werd hij benoemd tot Ridder in de Orde van Oranje - Nassau . Hij was getrouwd met Maria Maria Maria Meijer . \n",
      " \n",
      "  Als Nederlands politicus was hij lid van de Tweede Kamer der Staten - Generaal . In Den Haag was hij voorzitter van de Raad van State , voorzitter van de Raad van Bestuur van De Nationale Assemblée en lid van de Raad van Advies van het Comité Nederlandse Oud - Strijders . \n",
      " \n",
      "  Als lid van de Raad van State was hij in de jaren 1980 lid van de Raad van State . Hij was ook betrokken bij het Nationaal Comité voor Democratie en Democratie ( CDA ) . Van 1984 tot 1988 was hij vicevoorzitter van de Europese Commissie . In 1995 werd hij lid van de Raad van Europa . Daarna was hij van 1995 tot en met 1998 lid\n"
     ]
    }
   ],
   "source": [
    "TEXT = \"Jan Wolkers was afkomstig uit een gereformeerd milieu waar hij in zijn tienerjaren afstand van heeft genomen. De ouders van Wolkers (Jan Hendrik Wolkers sr. 1890-1976 en Jannetje van der Heijde 1899-1979) kwamen oorspronkelijk uit Amsterdam en hadden in totaal elf kinderen, van wie Jan het derde was. Vader Wolkers bezat voor de Tweede Wereldoorlog een slecht lopende kruidenierswinkel in Oegstgeest.\"\n",
    "N_WORDS = 500\n",
    "N_SENTENCES = 1\n",
    "\n",
    "print(\"\\n\".join(learn.predict(TEXT, N_WORDS, temperature=0.6) for _ in range(N_SENTENCES)))"
   ]
  },
  {
   "cell_type": "code",
   "execution_count": null,
   "metadata": {},
   "outputs": [],
   "source": []
  }
 ],
 "metadata": {
  "kernelspec": {
   "display_name": "Python 3",
   "language": "python",
   "name": "python3"
  },
  "language_info": {
   "codemirror_mode": {
    "name": "ipython",
    "version": 3
   },
   "file_extension": ".py",
   "mimetype": "text/x-python",
   "name": "python",
   "nbconvert_exporter": "python",
   "pygments_lexer": "ipython3",
   "version": "3.6.7"
  }
 },
 "nbformat": 4,
 "nbformat_minor": 2
}
