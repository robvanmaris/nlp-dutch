{
 "cells": [
  {
   "cell_type": "markdown",
   "metadata": {},
   "source": [
    "## Initial setup"
   ]
  },
  {
   "cell_type": "code",
   "execution_count": 1,
   "metadata": {},
   "outputs": [],
   "source": [
    "%reload_ext autoreload\n",
    "%autoreload 2\n",
    "%matplotlib inline"
   ]
  },
  {
   "cell_type": "code",
   "execution_count": 2,
   "metadata": {},
   "outputs": [],
   "source": [
    "from fastai import *\n",
    "from fastai.text import *"
   ]
  },
  {
   "cell_type": "code",
   "execution_count": 3,
   "metadata": {},
   "outputs": [],
   "source": [
    "bs = 256"
   ]
  },
  {
   "cell_type": "code",
   "execution_count": 4,
   "metadata": {},
   "outputs": [],
   "source": [
    "data_path = Config.data_path()\n",
    "lang = 'nl'\n",
    "name = f'{lang}wiki'\n",
    "path = data_path/name\n",
    "path.mkdir(exist_ok=True, parents=True)\n",
    "lm_fns = [f'{lang}_wt', f'{lang}_wt_vocab']"
   ]
  },
  {
   "cell_type": "markdown",
   "metadata": {},
   "source": [
    "## Download wikipedia data"
   ]
  },
  {
   "cell_type": "code",
   "execution_count": 21,
   "metadata": {},
   "outputs": [],
   "source": [
    "from nlputils import split_wiki,get_wiki"
   ]
  },
  {
   "cell_type": "code",
   "execution_count": 6,
   "metadata": {},
   "outputs": [
    {
     "name": "stdout",
     "output_type": "stream",
     "text": [
      "/storage/nlwiki/nlwiki already exists; not downloading\n"
     ]
    }
   ],
   "source": [
    "get_wiki(path, lang)"
   ]
  },
  {
   "cell_type": "code",
   "execution_count": 7,
   "metadata": {},
   "outputs": [
    {
     "data": {
      "text/plain": [
       "[PosixPath('/storage/nlwiki/wikiextractor'),\n",
       " PosixPath('/storage/nlwiki/nlwiki-latest-pages-articles.xml'),\n",
       " PosixPath('/storage/nlwiki/nlwiki-latest-pages-articles-small.xml.bz2'),\n",
       " PosixPath('/storage/nlwiki/.ipynb_checkpoints'),\n",
       " PosixPath('/storage/nlwiki/nlwiki'),\n",
       " PosixPath('/storage/nlwiki/nlwiki-latest-pages-articles.xml.bz2'),\n",
       " PosixPath('/storage/nlwiki/nlwiki-latest-pages-articles-small.xml'),\n",
       " PosixPath('/storage/nlwiki/docs'),\n",
       " PosixPath('/storage/nlwiki/log')]"
      ]
     },
     "execution_count": 7,
     "metadata": {},
     "output_type": "execute_result"
    }
   ],
   "source": [
    "path.ls()"
   ]
  },
  {
   "cell_type": "markdown",
   "metadata": {},
   "source": [
    "### Split in separate files"
   ]
  },
  {
   "cell_type": "code",
   "execution_count": 22,
   "metadata": {},
   "outputs": [
    {
     "name": "stdout",
     "output_type": "stream",
     "text": [
      "/storage/nlwiki/docs already exists; not splitting\n"
     ]
    }
   ],
   "source": [
    "dest = split_wiki(path, lang)"
   ]
  },
  {
   "cell_type": "code",
   "execution_count": 9,
   "metadata": {},
   "outputs": [
    {
     "data": {
      "text/plain": [
       "[PosixPath('/storage/nlwiki/docs/Theophanu.txt'),\n",
       " PosixPath('/storage/nlwiki/docs/Witte dovenetel.txt'),\n",
       " PosixPath('/storage/nlwiki/docs/Minskoffensief.txt'),\n",
       " PosixPath('/storage/nlwiki/docs/Cochabamba (stad).txt'),\n",
       " PosixPath('/storage/nlwiki/docs/Joel Osteen.txt')]"
      ]
     },
     "execution_count": 9,
     "metadata": {},
     "output_type": "execute_result"
    }
   ],
   "source": [
    "dest.ls()[:5]"
   ]
  },
  {
   "cell_type": "markdown",
   "metadata": {},
   "source": [
    "## Create databunch for language model"
   ]
  },
  {
   "cell_type": "code",
   "execution_count": 10,
   "metadata": {},
   "outputs": [
    {
     "data": {
      "text/plain": [
       "(60000, 183926)"
      ]
     },
     "execution_count": 10,
     "metadata": {},
     "output_type": "execute_result"
    }
   ],
   "source": [
    "data = (TextList.from_folder(dest)\n",
    "       .split_by_rand_pct(0.1, seed=42)\n",
    "       .label_for_lm()\n",
    "       .databunch(bs=bs, num_workers=1))\n",
    "data.save(f'{lang}_databunch')\n",
    "len(data.vocab.itos),len(data.train_ds)"
   ]
  },
  {
   "cell_type": "code",
   "execution_count": 11,
   "metadata": {},
   "outputs": [],
   "source": [
    "# data.train_ds[:5]"
   ]
  },
  {
   "cell_type": "markdown",
   "metadata": {},
   "source": [
    "## Train language model"
   ]
  },
  {
   "cell_type": "code",
   "execution_count": 23,
   "metadata": {},
   "outputs": [],
   "source": [
    "data = load_data(dest, f'{lang}_databunch', bs=bs, num_workers=1)"
   ]
  },
  {
   "cell_type": "code",
   "execution_count": 11,
   "metadata": {},
   "outputs": [],
   "source": [
    "# data.train_ds[:1]"
   ]
  },
  {
   "cell_type": "code",
   "execution_count": 12,
   "metadata": {},
   "outputs": [],
   "source": [
    "# learn = language_model_learner(data, AWD_LSTM, drop_mult=0.5, pretrained=False).to_fp16()\n",
    "learn = language_model_learner(data, AWD_LSTM, drop_mult=1.0, pretrained=False)"
   ]
  },
  {
   "cell_type": "code",
   "execution_count": 13,
   "metadata": {},
   "outputs": [],
   "source": [
    "learn.unfreeze()"
   ]
  },
  {
   "cell_type": "code",
   "execution_count": 14,
   "metadata": {},
   "outputs": [],
   "source": [
    "# learn.lr_find()\n",
    "# learn.recorder.plot()"
   ]
  },
  {
   "cell_type": "code",
   "execution_count": 15,
   "metadata": {},
   "outputs": [],
   "source": [
    "lr = 1e-2"
   ]
  },
  {
   "cell_type": "code",
   "execution_count": 16,
   "metadata": {},
   "outputs": [],
   "source": [
    "# learn.fit_one_cycle(1, lr, moms=(0.8, 0.7))"
   ]
  },
  {
   "cell_type": "code",
   "execution_count": 17,
   "metadata": {
    "scrolled": true
   },
   "outputs": [
    {
     "data": {
      "text/html": [
       "<table border=\"1\" class=\"dataframe\">\n",
       "  <thead>\n",
       "    <tr style=\"text-align: left;\">\n",
       "      <th>epoch</th>\n",
       "      <th>train_loss</th>\n",
       "      <th>valid_loss</th>\n",
       "      <th>accuracy</th>\n",
       "      <th>time</th>\n",
       "    </tr>\n",
       "  </thead>\n",
       "  <tbody>\n",
       "    <tr>\n",
       "      <td>0</td>\n",
       "      <td>3.524150</td>\n",
       "      <td>3.377209</td>\n",
       "      <td>0.373016</td>\n",
       "      <td>2:02:17</td>\n",
       "    </tr>\n",
       "    <tr>\n",
       "      <td>1</td>\n",
       "      <td>3.460805</td>\n",
       "      <td>3.315189</td>\n",
       "      <td>0.375193</td>\n",
       "      <td>2:02:05</td>\n",
       "    </tr>\n",
       "    <tr>\n",
       "      <td>2</td>\n",
       "      <td>3.445260</td>\n",
       "      <td>3.289851</td>\n",
       "      <td>0.378650</td>\n",
       "      <td>2:02:03</td>\n",
       "    </tr>\n",
       "    <tr>\n",
       "      <td>3</td>\n",
       "      <td>3.404821</td>\n",
       "      <td>3.240744</td>\n",
       "      <td>0.382945</td>\n",
       "      <td>2:01:59</td>\n",
       "    </tr>\n",
       "    <tr>\n",
       "      <td>4</td>\n",
       "      <td>3.363085</td>\n",
       "      <td>3.197753</td>\n",
       "      <td>0.387393</td>\n",
       "      <td>2:02:03</td>\n",
       "    </tr>\n",
       "    <tr>\n",
       "      <td>5</td>\n",
       "      <td>3.308877</td>\n",
       "      <td>3.138483</td>\n",
       "      <td>0.393465</td>\n",
       "      <td>2:02:04</td>\n",
       "    </tr>\n",
       "    <tr>\n",
       "      <td>6</td>\n",
       "      <td>3.250464</td>\n",
       "      <td>3.077751</td>\n",
       "      <td>0.399487</td>\n",
       "      <td>2:02:05</td>\n",
       "    </tr>\n",
       "    <tr>\n",
       "      <td>7</td>\n",
       "      <td>3.184076</td>\n",
       "      <td>3.016916</td>\n",
       "      <td>0.406360</td>\n",
       "      <td>2:02:02</td>\n",
       "    </tr>\n",
       "    <tr>\n",
       "      <td>8</td>\n",
       "      <td>3.162227</td>\n",
       "      <td>2.972598</td>\n",
       "      <td>0.411225</td>\n",
       "      <td>2:02:06</td>\n",
       "    </tr>\n",
       "    <tr>\n",
       "      <td>9</td>\n",
       "      <td>3.130161</td>\n",
       "      <td>2.958975</td>\n",
       "      <td>0.412856</td>\n",
       "      <td>2:02:06</td>\n",
       "    </tr>\n",
       "  </tbody>\n",
       "</table>"
      ],
      "text/plain": [
       "<IPython.core.display.HTML object>"
      ]
     },
     "metadata": {},
     "output_type": "display_data"
    }
   ],
   "source": [
    "learn.fit_one_cycle(10, lr, moms=(0.8, 0.7))\n",
    "# learn.fit_one_cycle(4, lr, moms=(0.8, 0.7))"
   ]
  },
  {
   "cell_type": "code",
   "execution_count": 18,
   "metadata": {},
   "outputs": [],
   "source": [
    "mdl_path = path/'models'\n",
    "mdl_path.mkdir(exist_ok=True)\n",
    "# learn.to_fp32().save(mdl_path/lm_fns[0], with_opt=False)\n",
    "learn.save(mdl_path/lm_fns[0], with_opt=False)\n",
    "learn.data.vocab.save(mdl_path/(lm_fns[1] + '.pkl'))"
   ]
  },
  {
   "cell_type": "code",
   "execution_count": 19,
   "metadata": {},
   "outputs": [
    {
     "name": "stdout",
     "output_type": "stream",
     "text": [
      "In zijn laatste roman \n",
      " \n",
      "  In de Nederlandse vertaling van \" De Zeven Koningen \" ( Nederlands : \" Het huis van de koning \" ) is een Nederlandse roman uit 1977 van de Nederlandse\n",
      "In zijn laatste roman ( De ban van de ring ) \n",
      " \n",
      "  In de ban is een roman van de Nederlandse schrijver Maarten Thijssen . Het verhaal werd in 1956 door Gerard Reve verfilmd en is\n"
     ]
    }
   ],
   "source": [
    "TEXT = \"In zijn laatste roman\"\n",
    "N_WORDS = 40\n",
    "N_SENTENCES = 2\n",
    "\n",
    "print(\"\\n\".join(learn.predict(TEXT, N_WORDS, temperature=0.75) for _ in range(N_SENTENCES)))"
   ]
  },
  {
   "cell_type": "code",
   "execution_count": 20,
   "metadata": {},
   "outputs": [],
   "source": [
    "learn.predict?"
   ]
  },
  {
   "cell_type": "code",
   "execution_count": 26,
   "metadata": {},
   "outputs": [],
   "source": [
    "# learn = language_model_learner(data, AWD_LSTM, drop_mult=1., \n",
    "#                                   path = path, \n",
    "#                                   pretrained_fnames=lm_fns)\n",
    "learn.export()"
   ]
  },
  {
   "cell_type": "code",
   "execution_count": 62,
   "metadata": {},
   "outputs": [
    {
     "name": "stdout",
     "output_type": "stream",
     "text": [
      "xxbos  Case - Artikel \n",
      " \n",
      "  Het Vierdelige woordenboek van Cohen is een Nederlandse encyclopedie , geschreven door Peter Elsevier in een tijd waarin de juridische verantwoordelijkheid voor de Nederlandse literatuur verschilde van die van de Nederlandse versie van het boek . \" Brieven aan de Nederlandse taal \" werd geschreven door Martin Heidegger . \n",
      " \n",
      "  De Nederlandse versie is uitgegeven als een vrij tweetalige versie van de Nederlandse vertaling van het Nederlands . De vertaling werd in Nederland uitgegeven door Hans van Vloten en Johan Polak . De tekst is geschreven in het Nederlands en wordt het Nederlands vertaald . De tekst in het Engels is geschreven door Jan Wolkers . \n",
      " \n",
      "  De Nederlandse vertaling verscheen voor het eerst in het Nederlands als deel van een ( kleine ) editie . \n",
      "  In de Nederlandse versie werden de hoofdstukken ontleend aan de Engelse tekst van een gedicht uit een Nederlandse vertaling . \n",
      " \n",
      "  Het boek werd geschreven in opdracht van Willem Frederik Hermans . De roman is geschreven door Jules Deelder . Het verscheen in 1932 onder de titel \" De Belgische Revolutie \" . Het boek is vertaald in het Engels , Frans , Spaans en Italiaans . \n",
      " \n",
      "  De tweede druk , \" The Interview of Roger \" , is uitgebracht in een vertaling \" New English Review \" . Het boek wordt in Nederland en België uitgegeven door De Gids en is in 2000 uitgegeven door Uitgeverij Meulenhoff . \n",
      " \n",
      "  In een artikel dat in uitgeverij De Arbeiderspers werd geschreven , werd het boek herdrukt . In de roman \" De Vlaamse Revolutie \" wordt Van den Bergh bekritiseerd door de schrijvers Jan Klas , Willem Elsschot , Bram Buysse en René Magritte . De roman is een van de weinige verhalen die sinds de Tweede Wereldoorlog in het Nederlands verscheen . De Vlaamse auteur Jan Wils schreef in een interview met Het Nieuwsblad dat hij geen Nederlandse nationaliteit had . Peter Van Gucht , die zijn mond vooral op zijn leven na de Tweede Wereldoorlog heeft gedrukt , was in eerste instantie een van de eersten die het werk van Van Ostaijen baseerde . De Belgische Wilfried Van Goes merkte op dat de roman een satire was op Nederlandse schrijvers en auteurs die de Vlaamse literatuur in hun leven ( en vooral Leopold van\n"
     ]
    }
   ],
   "source": [
    "TEXT = '''xxbos '''\n",
    "N_WORDS = 500\n",
    "N_SENTENCES = 1\n",
    "\n",
    "print(\"\\n\".join(learn.predict(TEXT, N_WORDS, temperature=0.75) for _ in range(N_SENTENCES)))"
   ]
  },
  {
   "cell_type": "code",
   "execution_count": 38,
   "metadata": {},
   "outputs": [
    {
     "data": {
      "text/plain": [
       "PosixPath('/storage')"
      ]
     },
     "execution_count": 38,
     "metadata": {},
     "output_type": "execute_result"
    }
   ],
   "source": [
    "data_path"
   ]
  },
  {
   "cell_type": "code",
   "execution_count": null,
   "metadata": {},
   "outputs": [],
   "source": []
  }
 ],
 "metadata": {
  "kernelspec": {
   "display_name": "Python 3",
   "language": "python",
   "name": "python3"
  },
  "language_info": {
   "codemirror_mode": {
    "name": "ipython",
    "version": 3
   },
   "file_extension": ".py",
   "mimetype": "text/x-python",
   "name": "python",
   "nbconvert_exporter": "python",
   "pygments_lexer": "ipython3",
   "version": "3.6.7"
  }
 },
 "nbformat": 4,
 "nbformat_minor": 2
}
